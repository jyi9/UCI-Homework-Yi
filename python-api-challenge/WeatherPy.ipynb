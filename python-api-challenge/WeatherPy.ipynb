{
 "cells": [
  {
   "cell_type": "code",
   "execution_count": null,
   "metadata": {},
   "outputs": [],
   "source": []
  },
  {
   "cell_type": "markdown",
   "metadata": {},
   "source": [
    "# Analysis\n"
   ]
  },
  {
   "cell_type": "code",
   "execution_count": 65,
   "metadata": {},
   "outputs": [],
   "source": [
    "# import dependencies\n",
    "\n",
    "import pandas as pd\n",
    "import numpy as np\n",
    "import matplotlib.pyplot as plt\n",
    "from config import api_key\n",
    "from scipy.stats import linregress\n",
    "import requests\n",
    "import json\n",
    "from citipy import citipy\n",
    "import time\n",
    "\n",
    "# set latitude and longitude ranges\n",
    "lat = (-90, 90)\n",
    "lng = (-180, 180)\n",
    "\n",
    "# base_url\n",
    "\n",
    "base_url = f\"http://api.openweathermap.org/data/2.5/weather?\"\n",
    "units = \"imperial\"\n",
    "\n",
    "# query url \n",
    "query_url = f\"{base_url}appid={api_key}&units={units}&q=\""
   ]
  },
  {
   "cell_type": "code",
   "execution_count": 66,
   "metadata": {},
   "outputs": [
    {
     "name": "stdout",
     "output_type": "stream",
     "text": [
      "588\n"
     ]
    }
   ],
   "source": [
    "# create lists to store cities and coordinates\n",
    "lat_lngs = []\n",
    "cities = []\n",
    "\n",
    "lats = np.random.uniform(low=-90.00, high=90.00, size=1500)\n",
    "lngs = np.random.uniform(low=-180.00, high=180.00, size=1500)\n",
    "\n",
    "lat_lngs = zip(lats, lngs)\n",
    "\n",
    "# use citipy to find nearest cities with coordinates \n",
    "\n",
    "for lat_lng in lat_lngs:\n",
    "    city = citipy.nearest_city(lat_lng[0], lat_lng[1]).city_name\n",
    "    \n",
    "    if city not in cities:\n",
    "        cities.append(city)\n",
    "    \n",
    "print(len(cities))\n",
    "    "
   ]
  },
  {
   "cell_type": "code",
   "execution_count": 67,
   "metadata": {},
   "outputs": [],
   "source": [
    "# create counters and lists\n",
    "city_names = []\n",
    "latitudes = []\n",
    "longitudes = []\n",
    "country_name = []\n",
    "wind_speed = []\n",
    "cloudiness = []\n",
    "humidity = []\n",
    "temperature = []\n",
    "date = []\n",
    "index_counter = 0 \n",
    "set_counter = 1"
   ]
  },
  {
   "cell_type": "code",
   "execution_count": 68,
   "metadata": {},
   "outputs": [
    {
     "name": "stdout",
     "output_type": "stream",
     "text": [
      "Processing Record 1 of Set 1 | tasiilaq\n",
      "Processing Record 2 of Set 1 | ushuaia\n",
      "Processing Record 3 of Set 1 | busselton\n",
      "City not found. Skipping...\n",
      "City not found. Skipping...\n",
      "City not found. Skipping...\n",
      "Processing Record 4 of Set 1 | chokurdakh\n",
      "Processing Record 5 of Set 1 | cherskiy\n",
      "Processing Record 6 of Set 1 | carnarvon\n",
      "Processing Record 7 of Set 1 | port alfred\n",
      "Processing Record 8 of Set 1 | jamestown\n",
      "Processing Record 9 of Set 1 | orocue\n",
      "Processing Record 10 of Set 1 | zaritap\n",
      "Processing Record 11 of Set 1 | hobart\n",
      "Processing Record 12 of Set 1 | severo-kurilsk\n",
      "Processing Record 13 of Set 1 | zaltan\n",
      "Processing Record 14 of Set 1 | cape town\n",
      "Processing Record 15 of Set 1 | hermanus\n",
      "City not found. Skipping...\n",
      "City not found. Skipping...\n",
      "Processing Record 16 of Set 1 | albany\n",
      "Processing Record 17 of Set 1 | linares\n",
      "Processing Record 18 of Set 1 | hithadhoo\n",
      "Processing Record 19 of Set 1 | cap malheureux\n",
      "Processing Record 20 of Set 1 | butaritari\n",
      "Processing Record 21 of Set 1 | saint george\n",
      "Processing Record 22 of Set 1 | oktyabrskiy\n",
      "Processing Record 23 of Set 1 | kavaratti\n",
      "Processing Record 24 of Set 1 | balingasay\n",
      "Processing Record 25 of Set 1 | barrow\n",
      "Processing Record 26 of Set 1 | bousso\n",
      "Processing Record 27 of Set 1 | georgetown\n",
      "Processing Record 28 of Set 1 | yellowknife\n",
      "Processing Record 29 of Set 1 | saint-philippe\n",
      "Processing Record 30 of Set 1 | tambura\n",
      "Processing Record 31 of Set 1 | mataura\n",
      "Processing Record 32 of Set 1 | itoigawa\n",
      "Processing Record 33 of Set 1 | saint-francois\n",
      "Processing Record 34 of Set 1 | rikitea\n",
      "Processing Record 35 of Set 1 | high level\n",
      "Processing Record 36 of Set 1 | cozumel\n",
      "City not found. Skipping...\n",
      "Processing Record 37 of Set 1 | bredasdorp\n",
      "Processing Record 38 of Set 1 | san policarpo\n",
      "Processing Record 39 of Set 1 | bengkulu\n",
      "Processing Record 40 of Set 1 | norman wells\n",
      "City not found. Skipping...\n",
      "Processing Record 41 of Set 1 | la tuque\n",
      "Processing Record 42 of Set 1 | bubaque\n",
      "City not found. Skipping...\n",
      "Processing Record 43 of Set 1 | nikki\n",
      "Processing Record 44 of Set 1 | mayor pablo lagerenza\n",
      "Processing Record 45 of Set 1 | ponta do sol\n",
      "Processing Record 46 of Set 1 | torbay\n",
      "Processing Record 47 of Set 1 | saint-augustin\n",
      "Processing Record 48 of Set 1 | longyearbyen\n",
      "Processing Record 49 of Set 1 | dingle\n",
      "Processing Record 50 of Set 1 | iqaluit\n",
      "Processing Record 51 of Set 1 | hasaki\n",
      "Processing Record 1 of Set 2 | qaanaaq\n",
      "Processing Record 2 of Set 2 | victor harbor\n",
      "Processing Record 3 of Set 2 | ewa beach\n",
      "Processing Record 4 of Set 2 | porbandar\n",
      "Processing Record 5 of Set 2 | vaini\n",
      "Processing Record 6 of Set 2 | tiksi\n",
      "Processing Record 7 of Set 2 | arraial do cabo\n",
      "City not found. Skipping...\n",
      "Processing Record 8 of Set 2 | khatanga\n",
      "Processing Record 9 of Set 2 | huarmey\n",
      "Processing Record 10 of Set 2 | salalah\n",
      "Processing Record 11 of Set 2 | deputatskiy\n",
      "Processing Record 12 of Set 2 | gouloure\n",
      "Processing Record 13 of Set 2 | tuktoyaktuk\n",
      "Processing Record 14 of Set 2 | pastavy\n",
      "Processing Record 15 of Set 2 | kavieng\n",
      "Processing Record 16 of Set 2 | takhtamygda\n",
      "Processing Record 17 of Set 2 | ostrovnoy\n",
      "Processing Record 18 of Set 2 | vanimo\n",
      "Processing Record 19 of Set 2 | punta arenas\n",
      "Processing Record 20 of Set 2 | katima mulilo\n",
      "Processing Record 21 of Set 2 | dikson\n",
      "Processing Record 22 of Set 2 | iwaki\n",
      "Processing Record 23 of Set 2 | airai\n",
      "Processing Record 24 of Set 2 | evensk\n",
      "Processing Record 25 of Set 2 | norwich\n",
      "Processing Record 26 of Set 2 | karratha\n",
      "Processing Record 27 of Set 2 | yaan\n",
      "Processing Record 28 of Set 2 | husavik\n",
      "Processing Record 29 of Set 2 | nongan\n",
      "Processing Record 30 of Set 2 | hilo\n",
      "Processing Record 31 of Set 2 | den helder\n",
      "Processing Record 32 of Set 2 | puerto ayora\n",
      "Processing Record 33 of Set 2 | narsaq\n",
      "Processing Record 34 of Set 2 | kilindoni\n",
      "Processing Record 35 of Set 2 | the valley\n",
      "Processing Record 36 of Set 2 | verkhnyaya balkariya\n",
      "Processing Record 37 of Set 2 | menongue\n",
      "Processing Record 38 of Set 2 | laguna\n",
      "Processing Record 39 of Set 2 | altamirano\n",
      "Processing Record 40 of Set 2 | mahebourg\n",
      "City not found. Skipping...\n",
      "Processing Record 41 of Set 2 | harper\n",
      "Processing Record 42 of Set 2 | mago\n",
      "Processing Record 43 of Set 2 | chippewa falls\n",
      "Processing Record 44 of Set 2 | mitsamiouli\n",
      "Processing Record 45 of Set 2 | douentza\n",
      "Processing Record 46 of Set 2 | pangnirtung\n",
      "Processing Record 47 of Set 2 | cabo san lucas\n",
      "Processing Record 48 of Set 2 | tuatapere\n",
      "City not found. Skipping...\n",
      "Processing Record 49 of Set 2 | sao filipe\n",
      "City not found. Skipping...\n",
      "Processing Record 50 of Set 2 | nome\n",
      "Processing Record 51 of Set 2 | hornepayne\n",
      "Processing Record 1 of Set 3 | chuy\n",
      "Processing Record 2 of Set 3 | sioux lookout\n",
      "Processing Record 3 of Set 3 | krasnyy yar\n",
      "Processing Record 4 of Set 3 | boddam\n",
      "Processing Record 5 of Set 3 | castanos\n",
      "Processing Record 6 of Set 3 | new norfolk\n",
      "Processing Record 7 of Set 3 | kyabe\n",
      "Processing Record 8 of Set 3 | grand gaube\n",
      "City not found. Skipping...\n",
      "Processing Record 9 of Set 3 | ribeira grande\n",
      "Processing Record 10 of Set 3 | moerai\n",
      "Processing Record 11 of Set 3 | kerrville\n",
      "Processing Record 12 of Set 3 | sitka\n",
      "Processing Record 13 of Set 3 | narrabri\n",
      "Processing Record 14 of Set 3 | terre-de-bas\n",
      "Processing Record 15 of Set 3 | mar del plata\n",
      "Processing Record 16 of Set 3 | ilulissat\n",
      "Processing Record 17 of Set 3 | sakakah\n",
      "Processing Record 18 of Set 3 | lasa\n",
      "Processing Record 19 of Set 3 | diamantino\n",
      "City not found. Skipping...\n",
      "City not found. Skipping...\n",
      "Processing Record 20 of Set 3 | mbale\n",
      "Processing Record 21 of Set 3 | antigua ocotepeque\n",
      "Processing Record 22 of Set 3 | geraldton\n",
      "Processing Record 23 of Set 3 | esperance\n",
      "Processing Record 24 of Set 3 | haines junction\n",
      "Processing Record 25 of Set 3 | saint-pierre\n",
      "Processing Record 26 of Set 3 | demba\n",
      "Processing Record 27 of Set 3 | bushehr\n",
      "Processing Record 28 of Set 3 | port lincoln\n",
      "Processing Record 29 of Set 3 | bambanglipuro\n",
      "Processing Record 30 of Set 3 | tsimlyansk\n",
      "Processing Record 31 of Set 3 | copiapo\n",
      "Processing Record 32 of Set 3 | victoria\n",
      "City not found. Skipping...\n",
      "Processing Record 33 of Set 3 | beringovskiy\n",
      "Processing Record 34 of Set 3 | lebu\n",
      "Processing Record 35 of Set 3 | potiskum\n",
      "Processing Record 36 of Set 3 | lavrentiya\n",
      "Processing Record 37 of Set 3 | saskylakh\n",
      "Processing Record 38 of Set 3 | cockburn town\n",
      "City not found. Skipping...\n",
      "Processing Record 39 of Set 3 | kyshtovka\n",
      "Processing Record 40 of Set 3 | luwuk\n",
      "City not found. Skipping...\n",
      "Processing Record 41 of Set 3 | flinders\n",
      "City not found. Skipping...\n",
      "Processing Record 42 of Set 3 | baliuag\n",
      "Processing Record 43 of Set 3 | ulaanbaatar\n",
      "Processing Record 44 of Set 3 | upernavik\n",
      "Processing Record 45 of Set 3 | usinsk\n",
      "Processing Record 46 of Set 3 | yar-sale\n",
      "Processing Record 47 of Set 3 | salobrena\n",
      "Processing Record 48 of Set 3 | souillac\n",
      "Processing Record 49 of Set 3 | mount gambier\n",
      "Processing Record 50 of Set 3 | vao\n",
      "Processing Record 51 of Set 3 | avarua\n",
      "Processing Record 1 of Set 4 | nemuro\n",
      "Processing Record 2 of Set 4 | nikolskoye\n",
      "Processing Record 3 of Set 4 | samarai\n",
      "Processing Record 4 of Set 4 | tessalit\n",
      "Processing Record 5 of Set 4 | nanhai\n",
      "Processing Record 6 of Set 4 | bambous virieux\n",
      "Processing Record 7 of Set 4 | kruisfontein\n",
      "Processing Record 8 of Set 4 | kaitangata\n",
      "Processing Record 9 of Set 4 | sydney\n",
      "Processing Record 10 of Set 4 | lazarev\n",
      "Processing Record 11 of Set 4 | ucluelet\n",
      "Processing Record 12 of Set 4 | cody\n",
      "Processing Record 13 of Set 4 | port elizabeth\n",
      "Processing Record 14 of Set 4 | bandar-e anzali\n",
      "Processing Record 15 of Set 4 | kota bahru\n",
      "Processing Record 16 of Set 4 | ca mau\n",
      "Processing Record 17 of Set 4 | kupang\n",
      "Processing Record 18 of Set 4 | dakar\n",
      "City not found. Skipping...\n",
      "Processing Record 19 of Set 4 | vestmannaeyjar\n",
      "Processing Record 20 of Set 4 | mayumba\n",
      "Processing Record 21 of Set 4 | pacific grove\n",
      "Processing Record 22 of Set 4 | belomorsk\n",
      "Processing Record 23 of Set 4 | grand forks\n",
      "City not found. Skipping...\n",
      "Processing Record 24 of Set 4 | lorengau\n",
      "Processing Record 25 of Set 4 | bouna\n",
      "Processing Record 26 of Set 4 | college\n",
      "Processing Record 27 of Set 4 | bilibino\n",
      "Processing Record 28 of Set 4 | labuhan\n",
      "Processing Record 29 of Set 4 | beloha\n",
      "Processing Record 30 of Set 4 | klaksvik\n",
      "Processing Record 31 of Set 4 | komsomolskiy\n"
     ]
    },
    {
     "name": "stdout",
     "output_type": "stream",
     "text": [
      "Processing Record 32 of Set 4 | porto novo\n",
      "Processing Record 33 of Set 4 | leningradskiy\n",
      "Processing Record 34 of Set 4 | sibolga\n",
      "Processing Record 35 of Set 4 | vytegra\n",
      "Processing Record 36 of Set 4 | thompson\n",
      "Processing Record 37 of Set 4 | portland\n",
      "Processing Record 38 of Set 4 | lata\n",
      "Processing Record 39 of Set 4 | talnakh\n",
      "Processing Record 40 of Set 4 | strezhevoy\n",
      "Processing Record 41 of Set 4 | bijie\n",
      "Processing Record 42 of Set 4 | kapaa\n",
      "Processing Record 43 of Set 4 | villefranche-de-rouergue\n",
      "Processing Record 44 of Set 4 | ancud\n",
      "Processing Record 45 of Set 4 | salym\n",
      "City not found. Skipping...\n",
      "Processing Record 46 of Set 4 | port-gentil\n",
      "Processing Record 47 of Set 4 | provideniya\n",
      "Processing Record 48 of Set 4 | zary\n",
      "Processing Record 49 of Set 4 | palmer\n",
      "Processing Record 50 of Set 4 | grindavik\n",
      "Processing Record 51 of Set 4 | faanui\n",
      "Processing Record 1 of Set 5 | gayny\n",
      "Processing Record 2 of Set 5 | pandan\n",
      "Processing Record 3 of Set 5 | linjiang\n",
      "City not found. Skipping...\n",
      "Processing Record 4 of Set 5 | kozhva\n",
      "Processing Record 5 of Set 5 | castro\n",
      "Processing Record 6 of Set 5 | east london\n",
      "Processing Record 7 of Set 5 | morondava\n",
      "Processing Record 8 of Set 5 | sao gotardo\n",
      "Processing Record 9 of Set 5 | bada\n",
      "Processing Record 10 of Set 5 | stavyshche\n",
      "Processing Record 11 of Set 5 | marica\n",
      "Processing Record 12 of Set 5 | okitipupa\n",
      "Processing Record 13 of Set 5 | mackay\n",
      "Processing Record 14 of Set 5 | kahului\n",
      "Processing Record 15 of Set 5 | yangcun\n",
      "Processing Record 16 of Set 5 | moose factory\n",
      "Processing Record 17 of Set 5 | tayshet\n",
      "Processing Record 18 of Set 5 | denpasar\n",
      "Processing Record 19 of Set 5 | cidreira\n",
      "Processing Record 20 of Set 5 | ulladulla\n",
      "Processing Record 21 of Set 5 | ixtapa\n",
      "Processing Record 22 of Set 5 | chara\n",
      "Processing Record 23 of Set 5 | mwingi\n",
      "Processing Record 24 of Set 5 | nantucket\n",
      "Processing Record 25 of Set 5 | chatellerault\n",
      "Processing Record 26 of Set 5 | isla mujeres\n",
      "Processing Record 27 of Set 5 | touros\n",
      "Processing Record 28 of Set 5 | beira\n",
      "Processing Record 29 of Set 5 | pevek\n",
      "Processing Record 30 of Set 5 | luderitz\n",
      "Processing Record 31 of Set 5 | verkhoyansk\n",
      "Processing Record 32 of Set 5 | bosaso\n",
      "Processing Record 33 of Set 5 | ocampo\n",
      "Processing Record 34 of Set 5 | bethel\n",
      "Processing Record 35 of Set 5 | shangzhi\n",
      "Processing Record 36 of Set 5 | poum\n",
      "Processing Record 37 of Set 5 | atuona\n",
      "Processing Record 38 of Set 5 | lagoa\n",
      "Processing Record 39 of Set 5 | magadan\n",
      "Processing Record 40 of Set 5 | olga\n",
      "Processing Record 41 of Set 5 | kununurra\n",
      "Processing Record 42 of Set 5 | san juan\n",
      "Processing Record 43 of Set 5 | olafsvik\n",
      "Processing Record 44 of Set 5 | kirkuk\n",
      "Processing Record 45 of Set 5 | turukhansk\n",
      "Processing Record 46 of Set 5 | hambantota\n",
      "Processing Record 47 of Set 5 | kelowna\n",
      "Processing Record 48 of Set 5 | ayrum\n",
      "Processing Record 49 of Set 5 | celestun\n",
      "Processing Record 50 of Set 5 | belmonte\n",
      "Processing Record 51 of Set 5 | khipro\n",
      "Processing Record 1 of Set 6 | camacha\n",
      "Processing Record 2 of Set 6 | ust-koksa\n",
      "Processing Record 3 of Set 6 | krasnoselkup\n",
      "City not found. Skipping...\n",
      "City not found. Skipping...\n",
      "Processing Record 4 of Set 6 | mafeteng\n",
      "Processing Record 5 of Set 6 | half moon bay\n",
      "City not found. Skipping...\n",
      "Processing Record 6 of Set 6 | urubicha\n",
      "Processing Record 7 of Set 6 | campbell river\n",
      "Processing Record 8 of Set 6 | port shepstone\n",
      "Processing Record 9 of Set 6 | kamakwie\n",
      "Processing Record 10 of Set 6 | te anau\n",
      "Processing Record 11 of Set 6 | burlington\n",
      "City not found. Skipping...\n",
      "Processing Record 12 of Set 6 | namatanai\n",
      "Processing Record 13 of Set 6 | grants pass\n",
      "Processing Record 14 of Set 6 | tongren\n",
      "Processing Record 15 of Set 6 | batagay\n",
      "Processing Record 16 of Set 6 | richards bay\n",
      "Processing Record 17 of Set 6 | oriximina\n",
      "Processing Record 18 of Set 6 | wuda\n",
      "Processing Record 19 of Set 6 | praia da vitoria\n",
      "Processing Record 20 of Set 6 | lompoc\n",
      "Processing Record 21 of Set 6 | tura\n",
      "Processing Record 22 of Set 6 | carutapera\n",
      "City not found. Skipping...\n",
      "Processing Record 23 of Set 6 | isagarh\n",
      "Processing Record 24 of Set 6 | padang\n",
      "Processing Record 25 of Set 6 | tra vinh\n",
      "Processing Record 26 of Set 6 | iquique\n",
      "Processing Record 27 of Set 6 | kushiro\n",
      "Processing Record 28 of Set 6 | aklavik\n",
      "City not found. Skipping...\n",
      "Processing Record 29 of Set 6 | srandakan\n",
      "Processing Record 30 of Set 6 | san cosme y damian\n",
      "Processing Record 31 of Set 6 | mogadishu\n",
      "City not found. Skipping...\n",
      "Processing Record 32 of Set 6 | broome\n",
      "Processing Record 33 of Set 6 | los llanos de aridane\n",
      "Processing Record 34 of Set 6 | asosa\n",
      "Processing Record 35 of Set 6 | riyadh\n",
      "Processing Record 36 of Set 6 | wajima\n",
      "Processing Record 37 of Set 6 | potam\n",
      "Processing Record 38 of Set 6 | suixi\n",
      "City not found. Skipping...\n",
      "Processing Record 39 of Set 6 | korsakovo\n",
      "Processing Record 40 of Set 6 | mayo\n",
      "Processing Record 41 of Set 6 | katsuura\n",
      "Processing Record 42 of Set 6 | santa maria\n",
      "City not found. Skipping...\n",
      "Processing Record 43 of Set 6 | isangel\n",
      "Processing Record 44 of Set 6 | naze\n",
      "Processing Record 45 of Set 6 | acapulco\n",
      "Processing Record 46 of Set 6 | lima\n",
      "City not found. Skipping...\n",
      "Processing Record 47 of Set 6 | mecca\n",
      "Processing Record 48 of Set 6 | coreau\n",
      "Processing Record 49 of Set 6 | fort nelson\n",
      "Processing Record 50 of Set 6 | parana\n",
      "Processing Record 51 of Set 6 | hofn\n",
      "Processing Record 1 of Set 7 | knysna\n",
      "Processing Record 2 of Set 7 | muzhi\n",
      "Processing Record 3 of Set 7 | maceio\n",
      "Processing Record 4 of Set 7 | port hardy\n",
      "Processing Record 5 of Set 7 | aspindza\n",
      "Processing Record 6 of Set 7 | naryan-mar\n",
      "Processing Record 7 of Set 7 | vila franca do campo\n",
      "Processing Record 8 of Set 7 | caucaia\n",
      "Processing Record 9 of Set 7 | ekhabi\n",
      "Processing Record 10 of Set 7 | conde\n",
      "Processing Record 11 of Set 7 | zimapan\n",
      "Processing Record 12 of Set 7 | sainte-marie\n",
      "Processing Record 13 of Set 7 | avera\n",
      "Processing Record 14 of Set 7 | jacareacanga\n",
      "Processing Record 15 of Set 7 | cowra\n",
      "Processing Record 16 of Set 7 | kodiak\n",
      "Processing Record 17 of Set 7 | yining\n",
      "Processing Record 18 of Set 7 | alofi\n",
      "Processing Record 19 of Set 7 | wanning\n",
      "Processing Record 20 of Set 7 | chumikan\n",
      "Processing Record 21 of Set 7 | sambava\n",
      "Processing Record 22 of Set 7 | kenitra\n",
      "Processing Record 23 of Set 7 | petrov val\n",
      "Processing Record 24 of Set 7 | chifeng\n",
      "City not found. Skipping...\n",
      "Processing Record 25 of Set 7 | xichang\n",
      "Processing Record 26 of Set 7 | bokovskaya\n",
      "City not found. Skipping...\n",
      "Processing Record 27 of Set 7 | raga\n",
      "Processing Record 28 of Set 7 | arlit\n",
      "Processing Record 29 of Set 7 | alamos\n",
      "Processing Record 30 of Set 7 | lumphat\n",
      "City not found. Skipping...\n",
      "Processing Record 31 of Set 7 | mount isa\n",
      "Processing Record 32 of Set 7 | sikasso\n",
      "City not found. Skipping...\n",
      "Processing Record 33 of Set 7 | lakatoro\n",
      "Processing Record 34 of Set 7 | piltene\n",
      "City not found. Skipping...\n",
      "Processing Record 35 of Set 7 | bandarbeyla\n",
      "Processing Record 36 of Set 7 | sibu\n",
      "City not found. Skipping...\n",
      "Processing Record 37 of Set 7 | domoni\n",
      "Processing Record 38 of Set 7 | atyrau\n",
      "Processing Record 39 of Set 7 | banyo\n",
      "Processing Record 40 of Set 7 | gorontalo\n",
      "Processing Record 41 of Set 7 | havre-saint-pierre\n",
      "City not found. Skipping...\n",
      "Processing Record 42 of Set 7 | yarmouth\n",
      "Processing Record 43 of Set 7 | marawi\n",
      "Processing Record 44 of Set 7 | anito\n",
      "Processing Record 45 of Set 7 | saldanha\n",
      "Processing Record 46 of Set 7 | abakaliki\n",
      "Processing Record 47 of Set 7 | namtsy\n",
      "Processing Record 48 of Set 7 | kaeo\n",
      "City not found. Skipping...\n",
      "Processing Record 49 of Set 7 | valdivia\n",
      "Processing Record 50 of Set 7 | koumac\n",
      "Processing Record 51 of Set 7 | rawson\n",
      "Processing Record 1 of Set 8 | dehloran\n",
      "Processing Record 2 of Set 8 | sayyan\n",
      "Processing Record 3 of Set 8 | soe\n",
      "Processing Record 4 of Set 8 | aksarka\n",
      "Processing Record 5 of Set 8 | sao joao da barra\n",
      "Processing Record 6 of Set 8 | coquimbo\n",
      "Processing Record 7 of Set 8 | walvis bay\n",
      "City not found. Skipping...\n",
      "Processing Record 8 of Set 8 | togur\n",
      "Processing Record 9 of Set 8 | alyangula\n",
      "Processing Record 10 of Set 8 | san blas\n",
      "Processing Record 11 of Set 8 | dickinson\n",
      "City not found. Skipping...\n",
      "Processing Record 12 of Set 8 | shangrao\n",
      "Processing Record 13 of Set 8 | nanortalik\n",
      "Processing Record 14 of Set 8 | port moresby\n"
     ]
    },
    {
     "name": "stdout",
     "output_type": "stream",
     "text": [
      "Processing Record 15 of Set 8 | la ronge\n",
      "Processing Record 16 of Set 8 | cravo norte\n",
      "Processing Record 17 of Set 8 | coihaique\n",
      "Processing Record 18 of Set 8 | palmas\n",
      "Processing Record 19 of Set 8 | san lazaro\n",
      "City not found. Skipping...\n",
      "Processing Record 20 of Set 8 | polunochnoye\n",
      "Processing Record 21 of Set 8 | ust-nera\n",
      "Processing Record 22 of Set 8 | livingstonia\n",
      "Processing Record 23 of Set 8 | vitry-le-francois\n",
      "Processing Record 24 of Set 8 | pong\n",
      "Processing Record 25 of Set 8 | zhangye\n",
      "Processing Record 26 of Set 8 | hobyo\n",
      "City not found. Skipping...\n",
      "Processing Record 27 of Set 8 | verkhnevilyuysk\n",
      "City not found. Skipping...\n",
      "Processing Record 28 of Set 8 | rock sound\n",
      "Processing Record 29 of Set 8 | goundam\n",
      "Processing Record 30 of Set 8 | melo\n",
      "Processing Record 31 of Set 8 | khandbari\n",
      "Processing Record 32 of Set 8 | ballina\n",
      "Processing Record 33 of Set 8 | carmelo\n",
      "Processing Record 34 of Set 8 | san cristobal\n",
      "Processing Record 35 of Set 8 | amga\n",
      "Processing Record 36 of Set 8 | inirida\n",
      "Processing Record 37 of Set 8 | rio verde de mato grosso\n",
      "Processing Record 38 of Set 8 | beyneu\n",
      "Processing Record 39 of Set 8 | mehamn\n",
      "Processing Record 40 of Set 8 | asau\n",
      "Processing Record 41 of Set 8 | goderich\n",
      "Processing Record 42 of Set 8 | marystown\n",
      "City not found. Skipping...\n",
      "Processing Record 43 of Set 8 | henties bay\n",
      "Processing Record 44 of Set 8 | codrington\n",
      "Processing Record 45 of Set 8 | manokwari\n",
      "Processing Record 46 of Set 8 | atherton\n",
      "City not found. Skipping...\n",
      "Processing Record 47 of Set 8 | clyde river\n",
      "Processing Record 48 of Set 8 | gamba\n",
      "Processing Record 49 of Set 8 | bratsk\n",
      "Processing Record 50 of Set 8 | xai-xai\n",
      "City not found. Skipping...\n",
      "City not found. Skipping...\n",
      "Processing Record 51 of Set 8 | colares\n",
      "City not found. Skipping...\n",
      "Processing Record 1 of Set 9 | alice springs\n",
      "Processing Record 2 of Set 9 | yulara\n",
      "Processing Record 3 of Set 9 | simao\n",
      "Processing Record 4 of Set 9 | payson\n",
      "Processing Record 5 of Set 9 | bathsheba\n",
      "Processing Record 6 of Set 9 | bone\n",
      "Processing Record 7 of Set 9 | rio grande\n",
      "Processing Record 8 of Set 9 | buchanan\n",
      "Processing Record 9 of Set 9 | mustafakemalpasa\n",
      "Processing Record 10 of Set 9 | shitkino\n",
      "Processing Record 11 of Set 9 | san quintin\n",
      "Processing Record 12 of Set 9 | kargasok\n",
      "Processing Record 13 of Set 9 | tokur\n",
      "Processing Record 14 of Set 9 | lafiagi\n",
      "Processing Record 15 of Set 9 | nyurba\n",
      "Processing Record 16 of Set 9 | miyako\n",
      "Processing Record 17 of Set 9 | ust-tsilma\n",
      "Processing Record 18 of Set 9 | krapkowice\n",
      "Processing Record 19 of Set 9 | codajas\n",
      "Processing Record 20 of Set 9 | cootamundra\n",
      "Processing Record 21 of Set 9 | konstantinovka\n",
      "Processing Record 22 of Set 9 | kamaishi\n",
      "Processing Record 23 of Set 9 | topola\n",
      "Processing Record 24 of Set 9 | merauke\n",
      "Processing Record 25 of Set 9 | dapdap\n",
      "Processing Record 26 of Set 9 | killybegs\n",
      "Processing Record 27 of Set 9 | bintulu\n",
      "Processing Record 28 of Set 9 | altay\n",
      "City not found. Skipping...\n",
      "Processing Record 29 of Set 9 | arman\n",
      "Processing Record 30 of Set 9 | yeppoon\n",
      "Processing Record 31 of Set 9 | general pico\n",
      "Processing Record 32 of Set 9 | ambilobe\n",
      "Processing Record 33 of Set 9 | champerico\n",
      "Processing Record 34 of Set 9 | aanekoski\n",
      "Processing Record 35 of Set 9 | hualmay\n",
      "Processing Record 36 of Set 9 | concepcion\n",
      "Processing Record 37 of Set 9 | balabac\n",
      "Processing Record 38 of Set 9 | svetlogorsk\n",
      "Processing Record 39 of Set 9 | pavlodar\n",
      "Processing Record 40 of Set 9 | cayenne\n",
      "Processing Record 41 of Set 9 | tateyama\n",
      "Processing Record 42 of Set 9 | lagunas\n",
      "Processing Record 43 of Set 9 | parati\n",
      "Processing Record 44 of Set 9 | fukue\n",
      "Processing Record 45 of Set 9 | merrill\n",
      "Processing Record 46 of Set 9 | skegness\n",
      "Processing Record 47 of Set 9 | ploemeur\n",
      "Processing Record 48 of Set 9 | auki\n",
      "Processing Record 49 of Set 9 | kysyl-syr\n",
      "Processing Record 50 of Set 9 | dhupgari\n",
      "City not found. Skipping...\n",
      "Processing Record 51 of Set 9 | kamenka\n",
      "Processing Record 1 of Set 10 | nishihara\n",
      "Processing Record 2 of Set 10 | vagur\n",
      "Processing Record 3 of Set 10 | teya\n",
      "Processing Record 4 of Set 10 | marsa matruh\n",
      "Processing Record 5 of Set 10 | yuzhno-sukhokumsk\n",
      "Processing Record 6 of Set 10 | srednekolymsk\n",
      "Processing Record 7 of Set 10 | goure\n",
      "Processing Record 8 of Set 10 | waipawa\n",
      "Processing Record 9 of Set 10 | tautira\n",
      "Processing Record 10 of Set 10 | rampura\n",
      "Processing Record 11 of Set 10 | ascope\n",
      "Processing Record 12 of Set 10 | ponta delgada\n",
      "Processing Record 13 of Set 10 | gore\n",
      "Processing Record 14 of Set 10 | guerrero negro\n",
      "Processing Record 15 of Set 10 | port-cartier\n",
      "Processing Record 16 of Set 10 | sikeston\n",
      "Processing Record 17 of Set 10 | saint anthony\n",
      "City not found. Skipping...\n",
      "Processing Record 18 of Set 10 | nuuk\n",
      "Processing Record 19 of Set 10 | mingshui\n",
      "Processing Record 20 of Set 10 | onega\n",
      "Processing Record 21 of Set 10 | lumeje\n",
      "Processing Record 22 of Set 10 | paita\n",
      "Processing Record 23 of Set 10 | svetlyy\n",
      "Processing Record 24 of Set 10 | sosnovo-ozerskoye\n",
      "Processing Record 25 of Set 10 | san angelo\n",
      "Processing Record 26 of Set 10 | montes altos\n",
      "Processing Record 27 of Set 10 | gremyachinsk\n",
      "Processing Record 28 of Set 10 | roebourne\n",
      "City not found. Skipping...\n",
      "Processing Record 29 of Set 10 | iisalmi\n",
      "City not found. Skipping...\n",
      "Processing Record 30 of Set 10 | lac-megantic\n",
      "Processing Record 31 of Set 10 | macusani\n",
      "Processing Record 32 of Set 10 | anshun\n",
      "Processing Record 33 of Set 10 | manuk mangkaw\n",
      "Processing Record 34 of Set 10 | chernyakhovsk\n",
      "Processing Record 35 of Set 10 | arkhangelsk\n",
      "Processing Record 36 of Set 10 | morrope\n",
      "Processing Record 37 of Set 10 | ntchisi\n",
      "Processing Record 38 of Set 10 | golden\n",
      "Processing Record 39 of Set 10 | jasper\n",
      "Processing Record 40 of Set 10 | baruun-urt\n",
      "Processing Record 41 of Set 10 | jaciara\n",
      "Processing Record 42 of Set 10 | rio gallegos\n",
      "Processing Record 43 of Set 10 | conceicao do araguaia\n",
      "Processing Record 44 of Set 10 | korla\n",
      "Processing Record 45 of Set 10 | nsanje\n",
      "Processing Record 46 of Set 10 | kaset sombun\n",
      "Processing Record 47 of Set 10 | akhtubinsk\n",
      "Processing Record 48 of Set 10 | ketchikan\n",
      "Processing Record 49 of Set 10 | kargala\n",
      "Processing Record 50 of Set 10 | voh\n",
      "Processing Record 51 of Set 10 | puerto quijarro\n",
      "Processing Record 1 of Set 11 | daru\n",
      "Processing Record 2 of Set 11 | igarka\n",
      "Processing Record 3 of Set 11 | port blair\n",
      "Processing Record 4 of Set 11 | chenzhou\n",
      "Processing Record 5 of Set 11 | sivaki\n",
      "Processing Record 6 of Set 11 | lubbock\n",
      "Processing Record 7 of Set 11 | wynyard\n",
      "Processing Record 8 of Set 11 | vestmanna\n",
      "Processing Record 9 of Set 11 | meulaboh\n",
      "Processing Record 10 of Set 11 | krasnogorskoye\n",
      "Processing Record 11 of Set 11 | japura\n",
      "Processing Record 12 of Set 11 | kichera\n"
     ]
    }
   ],
   "source": [
    "# Retrieve data for cities\n",
    "for city in cities:\n",
    "    try:\n",
    "        \n",
    "        # API Call\n",
    "        response = requests.get(query_url + city).json()\n",
    "        \n",
    "        \n",
    "        latitudes.append(response['coord']['lat'])\n",
    "        longitudes.append(response['coord']['lon'])\n",
    "        temperature.append(response['main']['temp_max'])\n",
    "        humidity.append(response['main']['humidity'])\n",
    "        cloudiness.append(response['clouds']['all'])\n",
    "        wind_speed.append(response['wind']['speed'])\n",
    "        country_name.append(response['sys']['country'])\n",
    "        date.append(response['dt'])\n",
    "        \n",
    "        \n",
    "        if index_counter > 50:\n",
    "            index_counter = 0\n",
    "            set_counter += 1\n",
    "            city_names.append(city)\n",
    "        else:\n",
    "            index_counter += 1\n",
    "            city_names.append(city)\n",
    "            print(f\"Processing Record {index_counter} of Set {set_counter} | {city}\")\n",
    "    except (KeyError, IndexError):\n",
    "        \n",
    "        print(\"City not found. Skipping...\")\n"
   ]
  },
  {
   "cell_type": "code",
   "execution_count": 69,
   "metadata": {},
   "outputs": [
    {
     "data": {
      "text/html": [
       "<div>\n",
       "<style scoped>\n",
       "    .dataframe tbody tr th:only-of-type {\n",
       "        vertical-align: middle;\n",
       "    }\n",
       "\n",
       "    .dataframe tbody tr th {\n",
       "        vertical-align: top;\n",
       "    }\n",
       "\n",
       "    .dataframe thead th {\n",
       "        text-align: right;\n",
       "    }\n",
       "</style>\n",
       "<table border=\"1\" class=\"dataframe\">\n",
       "  <thead>\n",
       "    <tr style=\"text-align: right;\">\n",
       "      <th></th>\n",
       "      <th>City</th>\n",
       "      <th>Lat</th>\n",
       "      <th>Lng</th>\n",
       "      <th>Country</th>\n",
       "      <th>Wind</th>\n",
       "      <th>Cloud</th>\n",
       "      <th>Humidity</th>\n",
       "      <th>Max Temp.</th>\n",
       "      <th>Date</th>\n",
       "    </tr>\n",
       "  </thead>\n",
       "  <tbody>\n",
       "    <tr>\n",
       "      <th>0</th>\n",
       "      <td>tasiilaq</td>\n",
       "      <td>65.61</td>\n",
       "      <td>-37.64</td>\n",
       "      <td>GL</td>\n",
       "      <td>2.86</td>\n",
       "      <td>96</td>\n",
       "      <td>80</td>\n",
       "      <td>33.80</td>\n",
       "      <td>1603072352</td>\n",
       "    </tr>\n",
       "    <tr>\n",
       "      <th>1</th>\n",
       "      <td>ushuaia</td>\n",
       "      <td>-54.80</td>\n",
       "      <td>-68.30</td>\n",
       "      <td>AR</td>\n",
       "      <td>10.29</td>\n",
       "      <td>75</td>\n",
       "      <td>69</td>\n",
       "      <td>39.20</td>\n",
       "      <td>1603072349</td>\n",
       "    </tr>\n",
       "    <tr>\n",
       "      <th>2</th>\n",
       "      <td>busselton</td>\n",
       "      <td>-33.65</td>\n",
       "      <td>115.33</td>\n",
       "      <td>AU</td>\n",
       "      <td>6.73</td>\n",
       "      <td>18</td>\n",
       "      <td>41</td>\n",
       "      <td>75.00</td>\n",
       "      <td>1603072348</td>\n",
       "    </tr>\n",
       "    <tr>\n",
       "      <th>3</th>\n",
       "      <td>chokurdakh</td>\n",
       "      <td>70.63</td>\n",
       "      <td>147.92</td>\n",
       "      <td>RU</td>\n",
       "      <td>5.53</td>\n",
       "      <td>95</td>\n",
       "      <td>98</td>\n",
       "      <td>19.63</td>\n",
       "      <td>1603072554</td>\n",
       "    </tr>\n",
       "    <tr>\n",
       "      <th>4</th>\n",
       "      <td>cherskiy</td>\n",
       "      <td>68.75</td>\n",
       "      <td>161.30</td>\n",
       "      <td>RU</td>\n",
       "      <td>7.11</td>\n",
       "      <td>92</td>\n",
       "      <td>93</td>\n",
       "      <td>23.68</td>\n",
       "      <td>1603072364</td>\n",
       "    </tr>\n",
       "  </tbody>\n",
       "</table>\n",
       "</div>"
      ],
      "text/plain": [
       "         City    Lat     Lng Country   Wind  Cloud  Humidity  Max Temp.  \\\n",
       "0    tasiilaq  65.61  -37.64      GL   2.86     96        80      33.80   \n",
       "1     ushuaia -54.80  -68.30      AR  10.29     75        69      39.20   \n",
       "2   busselton -33.65  115.33      AU   6.73     18        41      75.00   \n",
       "3  chokurdakh  70.63  147.92      RU   5.53     95        98      19.63   \n",
       "4    cherskiy  68.75  161.30      RU   7.11     92        93      23.68   \n",
       "\n",
       "         Date  \n",
       "0  1603072352  \n",
       "1  1603072349  \n",
       "2  1603072348  \n",
       "3  1603072554  \n",
       "4  1603072364  "
      ]
     },
     "execution_count": 69,
     "metadata": {},
     "output_type": "execute_result"
    }
   ],
   "source": [
    "weather_df = pd.DataFrame({\"City\": city_names, \"Lat\": latitudes, \"Lng\": longitudes,\n",
    "                          \"Country\": country_name, \"Wind\": wind_speed, \"Cloud\": cloudiness,\n",
    "                          \"Humidity\": humidity, \"Max Temp.\": temperature, \"Date\": date})\n",
    "weather_df.head()"
   ]
  },
  {
   "cell_type": "code",
   "execution_count": 52,
   "metadata": {},
   "outputs": [],
   "source": [
    "# output as csv\n",
    "weather_df.to_csv(\"output_data/weather_data.csv\")"
   ]
  },
  {
   "cell_type": "code",
   "execution_count": 70,
   "metadata": {},
   "outputs": [
    {
     "data": {
      "text/html": [
       "<div>\n",
       "<style scoped>\n",
       "    .dataframe tbody tr th:only-of-type {\n",
       "        vertical-align: middle;\n",
       "    }\n",
       "\n",
       "    .dataframe tbody tr th {\n",
       "        vertical-align: top;\n",
       "    }\n",
       "\n",
       "    .dataframe thead th {\n",
       "        text-align: right;\n",
       "    }\n",
       "</style>\n",
       "<table border=\"1\" class=\"dataframe\">\n",
       "  <thead>\n",
       "    <tr style=\"text-align: right;\">\n",
       "      <th></th>\n",
       "      <th>Lat</th>\n",
       "      <th>Lng</th>\n",
       "      <th>Wind</th>\n",
       "      <th>Cloud</th>\n",
       "      <th>Humidity</th>\n",
       "      <th>Max Temp.</th>\n",
       "      <th>Date</th>\n",
       "    </tr>\n",
       "  </thead>\n",
       "  <tbody>\n",
       "    <tr>\n",
       "      <th>count</th>\n",
       "      <td>532.000000</td>\n",
       "      <td>532.000000</td>\n",
       "      <td>532.000000</td>\n",
       "      <td>532.000000</td>\n",
       "      <td>532.000000</td>\n",
       "      <td>532.000000</td>\n",
       "      <td>5.320000e+02</td>\n",
       "    </tr>\n",
       "    <tr>\n",
       "      <th>mean</th>\n",
       "      <td>19.862876</td>\n",
       "      <td>21.974079</td>\n",
       "      <td>7.662500</td>\n",
       "      <td>53.930451</td>\n",
       "      <td>74.994361</td>\n",
       "      <td>59.087519</td>\n",
       "      <td>1.603073e+09</td>\n",
       "    </tr>\n",
       "    <tr>\n",
       "      <th>std</th>\n",
       "      <td>34.054914</td>\n",
       "      <td>92.613370</td>\n",
       "      <td>5.752371</td>\n",
       "      <td>40.208647</td>\n",
       "      <td>19.302185</td>\n",
       "      <td>20.259243</td>\n",
       "      <td>1.197649e+02</td>\n",
       "    </tr>\n",
       "    <tr>\n",
       "      <th>min</th>\n",
       "      <td>-54.800000</td>\n",
       "      <td>-179.170000</td>\n",
       "      <td>0.160000</td>\n",
       "      <td>0.000000</td>\n",
       "      <td>10.000000</td>\n",
       "      <td>7.290000</td>\n",
       "      <td>1.603072e+09</td>\n",
       "    </tr>\n",
       "    <tr>\n",
       "      <th>25%</th>\n",
       "      <td>-9.170000</td>\n",
       "      <td>-60.582500</td>\n",
       "      <td>3.430000</td>\n",
       "      <td>8.000000</td>\n",
       "      <td>66.000000</td>\n",
       "      <td>44.600000</td>\n",
       "      <td>1.603072e+09</td>\n",
       "    </tr>\n",
       "    <tr>\n",
       "      <th>50%</th>\n",
       "      <td>22.840000</td>\n",
       "      <td>27.245000</td>\n",
       "      <td>6.265000</td>\n",
       "      <td>68.500000</td>\n",
       "      <td>79.000000</td>\n",
       "      <td>62.995000</td>\n",
       "      <td>1.603073e+09</td>\n",
       "    </tr>\n",
       "    <tr>\n",
       "      <th>75%</th>\n",
       "      <td>50.022500</td>\n",
       "      <td>110.137500</td>\n",
       "      <td>10.290000</td>\n",
       "      <td>95.000000</td>\n",
       "      <td>89.000000</td>\n",
       "      <td>76.265000</td>\n",
       "      <td>1.603073e+09</td>\n",
       "    </tr>\n",
       "    <tr>\n",
       "      <th>max</th>\n",
       "      <td>78.220000</td>\n",
       "      <td>179.320000</td>\n",
       "      <td>54.130000</td>\n",
       "      <td>100.000000</td>\n",
       "      <td>100.000000</td>\n",
       "      <td>98.600000</td>\n",
       "      <td>1.603073e+09</td>\n",
       "    </tr>\n",
       "  </tbody>\n",
       "</table>\n",
       "</div>"
      ],
      "text/plain": [
       "              Lat         Lng        Wind       Cloud    Humidity   Max Temp.  \\\n",
       "count  532.000000  532.000000  532.000000  532.000000  532.000000  532.000000   \n",
       "mean    19.862876   21.974079    7.662500   53.930451   74.994361   59.087519   \n",
       "std     34.054914   92.613370    5.752371   40.208647   19.302185   20.259243   \n",
       "min    -54.800000 -179.170000    0.160000    0.000000   10.000000    7.290000   \n",
       "25%     -9.170000  -60.582500    3.430000    8.000000   66.000000   44.600000   \n",
       "50%     22.840000   27.245000    6.265000   68.500000   79.000000   62.995000   \n",
       "75%     50.022500  110.137500   10.290000   95.000000   89.000000   76.265000   \n",
       "max     78.220000  179.320000   54.130000  100.000000  100.000000   98.600000   \n",
       "\n",
       "               Date  \n",
       "count  5.320000e+02  \n",
       "mean   1.603073e+09  \n",
       "std    1.197649e+02  \n",
       "min    1.603072e+09  \n",
       "25%    1.603072e+09  \n",
       "50%    1.603073e+09  \n",
       "75%    1.603073e+09  \n",
       "max    1.603073e+09  "
      ]
     },
     "execution_count": 70,
     "metadata": {},
     "output_type": "execute_result"
    }
   ],
   "source": [
    "# describe dataframe\n",
    "weather_df.describe()"
   ]
  },
  {
   "cell_type": "code",
   "execution_count": 71,
   "metadata": {},
   "outputs": [
    {
     "data": {
      "text/plain": [
       "100"
      ]
     },
     "execution_count": 71,
     "metadata": {},
     "output_type": "execute_result"
    }
   ],
   "source": [
    "weather_df[\"Humidity\"].max()\n",
    "# no outliers"
   ]
  },
  {
   "cell_type": "code",
   "execution_count": 74,
   "metadata": {},
   "outputs": [
    {
     "name": "stdout",
     "output_type": "stream",
     "text": [
      "Values below 31.5 could be outliers.\n",
      "Values above 123.5 could be outliers.\n"
     ]
    }
   ],
   "source": [
    "# dropping humidity outliers by index \n",
    "\n",
    "quartiles = weather_df[\"Humidity\"].quantile([.25, .5, .75])\n",
    "\n",
    "lower_q = quartiles[.25]\n",
    "upper_q = quartiles[.75]\n",
    "iqr = upper_q - lower_q\n",
    "\n",
    "upper_bound = upper_q + (1.5*iqr)\n",
    "lower_bound = lower_q - (1.5*iqr)\n",
    "\n",
    "print(f\"Values below {lower_bound} could be outliers.\")\n",
    "print(f\"Values above {upper_bound} could be outliers.\")\n",
    "\n"
   ]
  },
  {
   "cell_type": "code",
   "execution_count": 75,
   "metadata": {},
   "outputs": [
    {
     "data": {
      "text/plain": [
       "City         508\n",
       "Lat          508\n",
       "Lng          508\n",
       "Country      508\n",
       "Wind         508\n",
       "Cloud        508\n",
       "Humidity     508\n",
       "Max Temp.    508\n",
       "Date         508\n",
       "dtype: int64"
      ]
     },
     "execution_count": 75,
     "metadata": {},
     "output_type": "execute_result"
    }
   ],
   "source": [
    "clean_city_data = pd.DataFrame(weather_df[weather_df.Humidity >= 32.5])\n",
    "clean_city_data.count()"
   ]
  },
  {
   "cell_type": "code",
   "execution_count": 76,
   "metadata": {},
   "outputs": [],
   "source": [
    "clean_city_data.to_csv(\"output_data/clean_city_data.csv\")"
   ]
  },
  {
   "cell_type": "code",
   "execution_count": 86,
   "metadata": {},
   "outputs": [
    {
     "data": {
      "image/png": "[encoded data removed]",
      "text/plain": [
       "<Figure size 432x288 with 1 Axes>"
      ]
     },
     "metadata": {
      "needs_background": "light"
     },
     "output_type": "display_data"
    }
   ],
   "source": [
    "# Latitude vs. Max Temperature\n",
    "\n",
    "plt.scatter(clean_city_data[\"Lat\"], clean_city_data[\"Max Temp.\"], edgecolors=\"black\", facecolors=\"blue\")\n",
    "plt.xlabel(\"Latitude\")\n",
    "plt.ylabel(\"Max Temperatures (F)\")\n",
    "plt.title(\"City Latitude vs. Max Temperature\")\n",
    "plt.grid(alpha=0.5)\n",
    "plt.savefig(\"Images/lat_temps.png\")"
   ]
  },
  {
   "cell_type": "code",
   "execution_count": 87,
   "metadata": {},
   "outputs": [
    {
     "data": {
      "image/png": "[encoded data removed]",
      "text/plain": [
       "<Figure size 432x288 with 1 Axes>"
      ]
     },
     "metadata": {
      "needs_background": "light"
     },
     "output_type": "display_data"
    }
   ],
   "source": [
    "# Latitude vs. Humidity\n",
    "plt.scatter(clean_city_data[\"Lat\"], clean_city_data[\"Humidity\"], edgecolors=\"black\", facecolors= \"blue\")\n",
    "plt.xlabel(\"Latitude\")\n",
    "plt.ylabel(\"Humidity (%)\")\n",
    "plt.title(\"Latitude vs. Humidity\")\n",
    "\n",
    "plt.grid(alpha=0.5)\n",
    "plt.savefig(\"Images/lat_humidity.png\")"
   ]
  },
  {
   "cell_type": "code",
   "execution_count": 88,
   "metadata": {},
   "outputs": [
    {
     "data": {
      "image/png": "[encoded data removed]",
      "text/plain": [
       "<Figure size 432x288 with 1 Axes>"
      ]
     },
     "metadata": {
      "needs_background": "light"
     },
     "output_type": "display_data"
    }
   ],
   "source": [
    "# Latitude vs Cloudiness\n",
    "\n",
    "plt.scatter(clean_city_data[\"Lat\"], clean_city_data[\"Cloud\"], edgecolors=\"black\", facecolors=\"blue\")\n",
    "plt.xlabel(\"Latitude\")\n",
    "plt.ylabel(\"Cloudiness\")\n",
    "plt.title(\"Latitude vs. Cloudiness\")\n",
    "plt.grid(alpha=0.5)\n",
    "plt.savefig(\"Images/Lat_Cloud.png\")"
   ]
  },
  {
   "cell_type": "code",
   "execution_count": 89,
   "metadata": {},
   "outputs": [
    {
     "data": {
      "image/png": "[encoded data removed]",
      "text/plain": [
       "<Figure size 432x288 with 1 Axes>"
      ]
     },
     "metadata": {
      "needs_background": "light"
     },
     "output_type": "display_data"
    }
   ],
   "source": [
    "# Latitude vs. Wind Speed\n",
    "\n",
    "plt.scatter(clean_city_data[\"Lat\"], clean_city_data[\"Wind\"], edgecolors=\"black\", facecolors=\"blue\")\n",
    "plt.xlabel(\"Latitude\")\n",
    "plt.ylabel(\"Wind Speed\")\n",
    "plt.title(\"Latitude vs. Wind Speed\")\n",
    "plt.grid(alpha=0.5)\n",
    "plt.savefig(\"Images/Lat_Wind.png\")"
   ]
  },
  {
   "cell_type": "code",
   "execution_count": 139,
   "metadata": {},
   "outputs": [
    {
     "name": "stdout",
     "output_type": "stream",
     "text": [
      "The rvalue is: -0.893179876221284\n"
     ]
    },
    {
     "data": {
      "image/png": "[encoded data removed]",
      "text/plain": [
       "<Figure size 432x288 with 1 Axes>"
      ]
     },
     "metadata": {
      "needs_background": "light"
     },
     "output_type": "display_data"
    }
   ],
   "source": [
    "# Liner Regression - Max Temp vs. Latitude \n",
    "northern_hemisphere = pd.DataFrame(clean_city_data.loc[clean_city_data[\"Lat\"] >= 0])\n",
    "x_values = northern_hemisphere[\"Lat\"]\n",
    "y_values = northern_hemisphere[\"Max Temp.\"]\n",
    "\n",
    "(slope, intercept, rvalue, pvalue, stderr) = linregress(x_values, y_values)\n",
    "\n",
    "regress_values = x_values * slope + intercept\n",
    "line_eq = \"y = \" + str(round(slope,3)) + \"x + \" + str(round(intercept,2))\n",
    "\n",
    "plt.plot(x_values, regress_values, \"r-\" )\n",
    "plt.scatter(x_values, y_values, edgecolors=\"black\", facecolors=\"blue\")\n",
    "plt.xlabel(\"Latitude\")\n",
    "plt.ylabel(\"Max Temp\")\n",
    "plt.annotate(line_eq,(0,10), fontsize=20, color=\"red\")\n",
    "plt.savefig(\"Images/NH_Lat_temp_regress.png\")\n",
    "print(f\"The rvalue is: {rvalue}\")"
   ]
  },
  {
   "cell_type": "code",
   "execution_count": 140,
   "metadata": {},
   "outputs": [
    {
     "name": "stdout",
     "output_type": "stream",
     "text": [
      "The rvalue is: 0.7204510971678358\n"
     ]
    },
    {
     "data": {
      "image/png": "[encoded data removed]",
      "text/plain": [
       "<Figure size 432x288 with 1 Axes>"
      ]
     },
     "metadata": {
      "needs_background": "light"
     },
     "output_type": "display_data"
    }
   ],
   "source": [
    "# Liner Regression - Max Temp vs. Latitude \n",
    "southern_hemisphere = pd.DataFrame(clean_city_data.loc[clean_city_data[\"Lat\"] < 0])\n",
    "x_values = southern_hemisphere[\"Lat\"]\n",
    "y_values = southern_hemisphere[\"Max Temp.\"]\n",
    "\n",
    "(slope, intercept, rvalue, pvalue, stderr) = linregress(x_values, y_values)\n",
    "\n",
    "regress_values = x_values * slope + intercept\n",
    "line_eq = \"y = \" + str(round(slope,3)) + \"x + \" + str(round(intercept,2))\n",
    "\n",
    "plt.plot(x_values, regress_values, \"r-\" )\n",
    "plt.scatter(x_values, y_values, edgecolors=\"black\", facecolors=\"blue\")\n",
    "plt.xlabel(\"Latitude\")\n",
    "plt.ylabel(\"Max Temp\")\n",
    "plt.annotate(line_eq,(-40,40), fontsize=20, color=\"red\")\n",
    "plt.savefig(\"Images/SH_Lat_temp_regress.png\")\n",
    "print(f\"The rvalue is: {rvalue}\")"
   ]
  },
  {
   "cell_type": "code",
   "execution_count": 141,
   "metadata": {},
   "outputs": [
    {
     "name": "stdout",
     "output_type": "stream",
     "text": [
      "The rvalue is: 0.16680465609661294\n"
     ]
    },
    {
     "data": {
      "image/png": "[encoded data removed]",
      "text/plain": [
       "<Figure size 432x288 with 1 Axes>"
      ]
     },
     "metadata": {
      "needs_background": "light"
     },
     "output_type": "display_data"
    }
   ],
   "source": [
    "# Northern Hempisphere Latitude vs. Humidity \n",
    "northern_hemisphere = pd.DataFrame(clean_city_data.loc[clean_city_data[\"Lat\"] >= 0])\n",
    "x_values = northern_hemisphere[\"Lat\"]\n",
    "y_values = northern_hemisphere[\"Humidity\"]\n",
    "\n",
    "(slope, intercept, rvalue, pvalue, stderr) = linregress(x_values, y_values)\n",
    "\n",
    "regress_values = x_values * slope + intercept\n",
    "line_eq = \"y = \" + str(round(slope,3)) + \"x + \" + str(round(intercept,2))\n",
    "\n",
    "plt.plot(x_values, regress_values, \"r-\" )\n",
    "plt.scatter(x_values, y_values, edgecolors=\"black\", facecolors=\"blue\")\n",
    "plt.xlabel(\"Latitude\")\n",
    "plt.ylabel(\"Humidity\")\n",
    "plt.annotate(line_eq,(10,40), fontsize=20, color=\"red\")\n",
    "plt.savefig(\"Images/NH_Lat_Humidity_regress.png\")\n",
    "print(f\"The rvalue is: {rvalue}\")"
   ]
  },
  {
   "cell_type": "code",
   "execution_count": 142,
   "metadata": {},
   "outputs": [
    {
     "name": "stdout",
     "output_type": "stream",
     "text": [
      "The rvalue is: -0.08321956475163324\n"
     ]
    },
    {
     "data": {
      "image/png": "[encoded data removed]",
      "text/plain": [
       "<Figure size 432x288 with 1 Axes>"
      ]
     },
     "metadata": {
      "needs_background": "light"
     },
     "output_type": "display_data"
    }
   ],
   "source": [
    "southern_hemisphere = pd.DataFrame(clean_city_data.loc[clean_city_data[\"Lat\"] < 0])\n",
    "x_values = southern_hemisphere[\"Lat\"]\n",
    "y_values = southern_hemisphere[\"Humidity\"]\n",
    "\n",
    "(slope, intercept, rvalue, pvalue, stderr) = linregress(x_values, y_values)\n",
    "\n",
    "regress_values = x_values * slope + intercept\n",
    "line_eq = \"y = \" + str(round(slope,3)) + \"x + \" + str(round(intercept,2))\n",
    "\n",
    "plt.plot(x_values, regress_values, \"r-\" )\n",
    "plt.scatter(x_values, y_values, edgecolors=\"black\", facecolors=\"blue\")\n",
    "plt.xlabel(\"Latitude\")\n",
    "plt.ylabel(\"Humidity\")\n",
    "plt.annotate(line_eq,(-50,40), fontsize=20, color=\"red\")\n",
    "plt.savefig(\"Images/SH_Lat_Humidity_regress.png\")\n",
    "print(f\"The rvalue is: {rvalue}\")"
   ]
  },
  {
   "cell_type": "code",
   "execution_count": 143,
   "metadata": {},
   "outputs": [
    {
     "name": "stdout",
     "output_type": "stream",
     "text": [
      "The rvalue is: 0.13225523613525142\n"
     ]
    },
    {
     "data": {
      "image/png": "[encoded data removed]",
      "text/plain": [
       "<Figure size 432x288 with 1 Axes>"
      ]
     },
     "metadata": {
      "needs_background": "light"
     },
     "output_type": "display_data"
    }
   ],
   "source": [
    "northern_hemisphere = pd.DataFrame(clean_city_data.loc[clean_city_data[\"Lat\"] >= 0])\n",
    "x_values = northern_hemisphere[\"Lat\"]\n",
    "y_values = northern_hemisphere[\"Cloud\"]\n",
    "\n",
    "(slope, intercept, rvalue, pvalue, stderr) = linregress(x_values, y_values)\n",
    "\n",
    "regress_values = x_values * slope + intercept\n",
    "line_eq = \"y = \" + str(round(slope,3)) + \"x + \" + str(round(intercept,2))\n",
    "\n",
    "plt.plot(x_values, regress_values, \"r-\" )\n",
    "plt.scatter(x_values, y_values, edgecolors=\"black\", facecolors=\"blue\")\n",
    "plt.xlabel(\"Latitude\")\n",
    "plt.ylabel(\"Cloudiness\")\n",
    "plt.annotate(line_eq,(10,27), fontsize=20, color=\"red\")\n",
    "plt.savefig(\"Images/NH_Lat_cloud_regress.png\")\n",
    "print(f\"The rvalue is: {rvalue}\")"
   ]
  },
  {
   "cell_type": "code",
   "execution_count": 144,
   "metadata": {},
   "outputs": [
    {
     "name": "stdout",
     "output_type": "stream",
     "text": [
      "The rvalue is: -0.04879171455591977\n"
     ]
    },
    {
     "data": {
      "image/png": "[encoded data removed]",
      "text/plain": [
       "<Figure size 432x288 with 1 Axes>"
      ]
     },
     "metadata": {
      "needs_background": "light"
     },
     "output_type": "display_data"
    }
   ],
   "source": [
    "southern_hemisphere = pd.DataFrame(clean_city_data.loc[clean_city_data[\"Lat\"] < 0])\n",
    "x_values = southern_hemisphere[\"Lat\"]\n",
    "y_values = southern_hemisphere[\"Cloud\"]\n",
    "\n",
    "(slope, intercept, rvalue, pvalue, stderr) = linregress(x_values, y_values)\n",
    "\n",
    "regress_values = x_values * slope + intercept\n",
    "line_eq = \"y = \" + str(round(slope,3)) + \"x + \" + str(round(intercept,2))\n",
    "\n",
    "plt.plot(x_values, regress_values, \"r-\" )\n",
    "plt.scatter(x_values, y_values, edgecolors=\"black\", facecolors=\"blue\")\n",
    "plt.xlabel(\"Latitude\")\n",
    "plt.ylabel(\"Cloudiness\")\n",
    "plt.annotate(line_eq,(-50,23), fontsize=20, color=\"red\")\n",
    "plt.savefig(\"Images/SH_Lat_cloud_regress.png\")\n",
    "print(f\"The rvalue is: {rvalue}\")"
   ]
  },
  {
   "cell_type": "code",
   "execution_count": 146,
   "metadata": {},
   "outputs": [
    {
     "name": "stdout",
     "output_type": "stream",
     "text": [
      "The rvalue is: 0.19441225637773865\n"
     ]
    },
    {
     "data": {
      "image/png": "[encoded data removed]",
      "text/plain": [
       "<Figure size 432x288 with 1 Axes>"
      ]
     },
     "metadata": {
      "needs_background": "light"
     },
     "output_type": "display_data"
    }
   ],
   "source": [
    "northern_hemisphere = pd.DataFrame(clean_city_data.loc[clean_city_data[\"Lat\"] >= 0])\n",
    "x_values = northern_hemisphere[\"Lat\"]\n",
    "y_values = northern_hemisphere[\"Wind\"]\n",
    "\n",
    "(slope, intercept, rvalue, pvalue, stderr) = linregress(x_values, y_values)\n",
    "\n",
    "regress_values = x_values * slope + intercept\n",
    "line_eq = \"y = \" + str(round(slope,3)) + \"x + \" + str(round(intercept,2))\n",
    "\n",
    "plt.plot(x_values, regress_values, \"r-\" )\n",
    "plt.scatter(x_values, y_values, edgecolors=\"black\", facecolors=\"blue\")\n",
    "plt.xlabel(\"Latitude\")\n",
    "plt.ylabel(\"Wind Speed\")\n",
    "plt.annotate(line_eq,(10,40), fontsize=20, color=\"red\")\n",
    "plt.savefig(\"Images/NH_Lat_wind_regress.png\")\n",
    "print(f\"The rvalue is: {rvalue}\")"
   ]
  },
  {
   "cell_type": "code",
   "execution_count": 147,
   "metadata": {},
   "outputs": [
    {
     "name": "stdout",
     "output_type": "stream",
     "text": [
      "The rvalue is: -0.11965985136586396\n"
     ]
    },
    {
     "data": {
      "image/png": "[encoded data removed]",
      "text/plain": [
       "<Figure size 432x288 with 1 Axes>"
      ]
     },
     "metadata": {
      "needs_background": "light"
     },
     "output_type": "display_data"
    }
   ],
   "source": [
    "southern_hemisphere = pd.DataFrame(clean_city_data.loc[clean_city_data[\"Lat\"] < 0])\n",
    "x_values = southern_hemisphere[\"Lat\"]\n",
    "y_values = southern_hemisphere[\"Wind\"]\n",
    "\n",
    "(slope, intercept, rvalue, pvalue, stderr) = linregress(x_values, y_values)\n",
    "\n",
    "regress_values = x_values * slope + intercept\n",
    "line_eq = \"y = \" + str(round(slope,3)) + \"x + \" + str(round(intercept,2))\n",
    "\n",
    "plt.plot(x_values, regress_values, \"r-\" )\n",
    "plt.scatter(x_values, y_values, edgecolors=\"black\", facecolors=\"blue\")\n",
    "plt.xlabel(\"Latitude\")\n",
    "plt.ylabel(\"Wind speed\")\n",
    "plt.annotate(line_eq,(-50,20), fontsize=20, color=\"red\")\n",
    "plt.savefig(\"Images/SH_Lat_wind_regress.png\")\n",
    "print(f\"The rvalue is: {rvalue}\")"
   ]
  }
 ],
 "metadata": {
  "kernelspec": {
   "display_name": "Python [conda env:PythonData] *",
   "language": "python",
   "name": "conda-env-PythonData-py"
  },
  "language_info": {
   "codemirror_mode": {
    "name": "ipython",
    "version": 3
   },
   "file_extension": ".py",
   "mimetype": "text/x-python",
   "name": "python",
   "nbconvert_exporter": "python",
   "pygments_lexer": "ipython3",
   "version": "3.6.12"
  }
 },
 "nbformat": 4,
 "nbformat_minor": 4
}
