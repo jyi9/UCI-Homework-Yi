{
 "cells": [
  {
   "cell_type": "markdown",
   "metadata": {},
   "source": [
    "# Analysis\n"
   ]
  },
  {
   "cell_type": "raw",
   "metadata": {},
   "source": [
    "# There is a clear correlation between latitude and temperature. \n",
    "The closer cities are to the equator, the higher the temperature.\n",
    "Cities in the Southern Hemisphere are warmer during this time of the year vs. cities in the Northern Hemisphere.\n",
    "Conversely, there is a weaker correlation between wind speed and latitude. \n",
    "Additionally, there is no strong relationship between latitude and humidity. \n",
    "\n"
   ]
  },
  {
   "cell_type": "code",
   "execution_count": 1,
   "metadata": {},
   "outputs": [],
   "source": [
    "# import dependencies\n",
    "\n",
    "import pandas as pd\n",
    "import numpy as np\n",
    "import matplotlib.pyplot as plt\n",
    "from config import api_key\n",
    "from scipy.stats import linregress\n",
    "import requests\n",
    "import json\n",
    "from citipy import citipy\n",
    "import time\n",
    "\n",
    "# set latitude and longitude ranges\n",
    "lat = (-90, 90)\n",
    "lng = (-180, 180)\n",
    "\n",
    "# base_url\n",
    "\n",
    "base_url = f\"http://api.openweathermap.org/data/2.5/weather?\"\n",
    "units = \"imperial\"\n",
    "\n",
    "# query url \n",
    "query_url = f\"{base_url}appid={api_key}&units={units}&q=\""
   ]
  },
  {
   "cell_type": "code",
   "execution_count": 2,
   "metadata": {},
   "outputs": [
    {
     "name": "stdout",
     "output_type": "stream",
     "text": [
      "605\n"
     ]
    }
   ],
   "source": [
    "# create lists to store cities and coordinates\n",
    "lat_lngs = []\n",
    "cities = []\n",
    "\n",
    "lats = np.random.uniform(low=-90.00, high=90.00, size=1500)\n",
    "lngs = np.random.uniform(low=-180.00, high=180.00, size=1500)\n",
    "\n",
    "lat_lngs = zip(lats, lngs)\n",
    "\n",
    "# use citipy to find nearest cities with coordinates \n",
    "\n",
    "for lat_lng in lat_lngs:\n",
    "    city = citipy.nearest_city(lat_lng[0], lat_lng[1]).city_name\n",
    "    \n",
    "    if city not in cities:\n",
    "        cities.append(city)\n",
    "    \n",
    "print(len(cities))\n",
    "    "
   ]
  },
  {
   "cell_type": "code",
   "execution_count": 3,
   "metadata": {},
   "outputs": [],
   "source": [
    "# create counters and lists\n",
    "city_names = []\n",
    "latitudes = []\n",
    "longitudes = []\n",
    "country_name = []\n",
    "wind_speed = []\n",
    "cloudiness = []\n",
    "humidity = []\n",
    "temperature = []\n",
    "date = []\n",
    "index_counter = 0 \n",
    "set_counter = 1"
   ]
  },
  {
   "cell_type": "code",
   "execution_count": 4,
   "metadata": {},
   "outputs": [
    {
     "name": "stdout",
     "output_type": "stream",
     "text": [
      "Processing Record 1 of Set 1 | busselton\n",
      "Processing Record 2 of Set 1 | jamestown\n",
      "Processing Record 3 of Set 1 | hilo\n",
      "Processing Record 4 of Set 1 | rikitea\n",
      "Processing Record 5 of Set 1 | axim\n",
      "Processing Record 6 of Set 1 | hobart\n",
      "Processing Record 7 of Set 1 | carnarvon\n",
      "City not found. Skipping...\n",
      "Processing Record 8 of Set 1 | umm kaddadah\n",
      "Processing Record 9 of Set 1 | pangody\n",
      "Processing Record 10 of Set 1 | bredasdorp\n",
      "City not found. Skipping...\n",
      "Processing Record 11 of Set 1 | tual\n",
      "Processing Record 12 of Set 1 | alzamay\n",
      "Processing Record 13 of Set 1 | pangnirtung\n",
      "Processing Record 14 of Set 1 | ushuaia\n",
      "Processing Record 15 of Set 1 | puerto ayora\n",
      "Processing Record 16 of Set 1 | mazabuka\n",
      "City not found. Skipping...\n",
      "Processing Record 17 of Set 1 | hofn\n",
      "Processing Record 18 of Set 1 | hermanus\n",
      "Processing Record 19 of Set 1 | port elizabeth\n",
      "Processing Record 20 of Set 1 | airai\n",
      "Processing Record 21 of Set 1 | rawlins\n",
      "Processing Record 22 of Set 1 | atuona\n",
      "Processing Record 23 of Set 1 | new norfolk\n",
      "City not found. Skipping...\n",
      "Processing Record 24 of Set 1 | guerrero negro\n",
      "Processing Record 25 of Set 1 | abu zabad\n",
      "Processing Record 26 of Set 1 | goundi\n",
      "Processing Record 27 of Set 1 | kapaa\n",
      "Processing Record 28 of Set 1 | victoria\n",
      "Processing Record 29 of Set 1 | dennery\n",
      "Processing Record 30 of Set 1 | shubarshi\n",
      "Processing Record 31 of Set 1 | punta arenas\n",
      "Processing Record 32 of Set 1 | gushikawa\n",
      "Processing Record 33 of Set 1 | ancud\n",
      "Processing Record 34 of Set 1 | qaanaaq\n",
      "Processing Record 35 of Set 1 | bluff\n",
      "Processing Record 36 of Set 1 | saint george\n",
      "Processing Record 37 of Set 1 | clyde river\n",
      "Processing Record 38 of Set 1 | malanje\n",
      "Processing Record 39 of Set 1 | samana\n",
      "Processing Record 40 of Set 1 | tiarei\n",
      "Processing Record 41 of Set 1 | manhattan\n",
      "Processing Record 42 of Set 1 | san juan\n",
      "Processing Record 43 of Set 1 | cidreira\n",
      "Processing Record 44 of Set 1 | mataura\n",
      "Processing Record 45 of Set 1 | whitehorse\n",
      "City not found. Skipping...\n",
      "City not found. Skipping...\n",
      "Processing Record 46 of Set 1 | kloulklubed\n",
      "Processing Record 47 of Set 1 | goderich\n",
      "Processing Record 48 of Set 1 | cape town\n",
      "Processing Record 49 of Set 1 | arraial do cabo\n",
      "Processing Record 50 of Set 1 | yellowknife\n",
      "City not found. Skipping...\n",
      "Processing Record 51 of Set 1 | batagay-alyta\n",
      "Processing Record 1 of Set 2 | mersing\n",
      "Processing Record 2 of Set 2 | vila franca do campo\n",
      "Processing Record 3 of Set 2 | guiratinga\n",
      "Processing Record 4 of Set 2 | sao filipe\n",
      "Processing Record 5 of Set 2 | vaini\n",
      "Processing Record 6 of Set 2 | saint-philippe\n",
      "Processing Record 7 of Set 2 | sungai udang\n",
      "Processing Record 8 of Set 2 | dikson\n",
      "Processing Record 9 of Set 2 | mezhdurechenskiy\n",
      "Processing Record 10 of Set 2 | inhambane\n",
      "Processing Record 11 of Set 2 | lakes entrance\n",
      "Processing Record 12 of Set 2 | san matias\n",
      "City not found. Skipping...\n",
      "Processing Record 13 of Set 2 | zheshart\n",
      "City not found. Skipping...\n",
      "Processing Record 14 of Set 2 | mar del plata\n",
      "Processing Record 15 of Set 2 | chokurdakh\n",
      "Processing Record 16 of Set 2 | bwanga\n",
      "Processing Record 17 of Set 2 | ndioum\n",
      "Processing Record 18 of Set 2 | oistins\n",
      "Processing Record 19 of Set 2 | barrow\n",
      "Processing Record 20 of Set 2 | carutapera\n",
      "Processing Record 21 of Set 2 | khatanga\n",
      "Processing Record 22 of Set 2 | marsh harbour\n",
      "Processing Record 23 of Set 2 | pedernales\n",
      "Processing Record 24 of Set 2 | hambantota\n",
      "Processing Record 25 of Set 2 | san jose\n",
      "Processing Record 26 of Set 2 | atasu\n",
      "Processing Record 27 of Set 2 | mujiayingzi\n",
      "Processing Record 28 of Set 2 | jinchang\n",
      "Processing Record 29 of Set 2 | cap malheureux\n",
      "Processing Record 30 of Set 2 | caravelas\n",
      "Processing Record 31 of Set 2 | yaan\n",
      "Processing Record 32 of Set 2 | lebu\n",
      "Processing Record 33 of Set 2 | juruti\n",
      "Processing Record 34 of Set 2 | ust-tsilma\n",
      "Processing Record 35 of Set 2 | sola\n",
      "Processing Record 36 of Set 2 | gladstone\n",
      "Processing Record 37 of Set 2 | vieux-habitants\n",
      "Processing Record 38 of Set 2 | east london\n",
      "Processing Record 39 of Set 2 | tacuarembo\n",
      "Processing Record 40 of Set 2 | ribeira grande\n",
      "Processing Record 41 of Set 2 | lubango\n",
      "City not found. Skipping...\n",
      "Processing Record 42 of Set 2 | mount gambier\n",
      "Processing Record 43 of Set 2 | nome\n",
      "Processing Record 44 of Set 2 | chicama\n",
      "Processing Record 45 of Set 2 | longyearbyen\n",
      "Processing Record 46 of Set 2 | georgetown\n",
      "Processing Record 47 of Set 2 | mount isa\n",
      "Processing Record 48 of Set 2 | pucallpa\n",
      "Processing Record 49 of Set 2 | shenjiamen\n",
      "Processing Record 50 of Set 2 | broome\n",
      "Processing Record 51 of Set 2 | jian\n",
      "Processing Record 1 of Set 3 | vardo\n",
      "Processing Record 2 of Set 3 | ucluelet\n",
      "City not found. Skipping...\n",
      "Processing Record 3 of Set 3 | amarante do maranhao\n",
      "Processing Record 4 of Set 3 | iwaki\n",
      "Processing Record 5 of Set 3 | gijon\n",
      "Processing Record 6 of Set 3 | pisco\n",
      "Processing Record 7 of Set 3 | saint anthony\n",
      "Processing Record 8 of Set 3 | upernavik\n",
      "Processing Record 9 of Set 3 | gilgit\n",
      "Processing Record 10 of Set 3 | padang\n",
      "Processing Record 11 of Set 3 | cabo san lucas\n",
      "Processing Record 12 of Set 3 | touros\n",
      "City not found. Skipping...\n",
      "Processing Record 13 of Set 3 | tiksi\n",
      "City not found. Skipping...\n",
      "Processing Record 14 of Set 3 | poum\n",
      "Processing Record 15 of Set 3 | provideniya\n",
      "Processing Record 16 of Set 3 | geraldton\n",
      "Processing Record 17 of Set 3 | gwadar\n",
      "Processing Record 18 of Set 3 | azuaga\n",
      "City not found. Skipping...\n",
      "Processing Record 19 of Set 3 | aksarka\n",
      "Processing Record 20 of Set 3 | meulaboh\n",
      "Processing Record 21 of Set 3 | roebourne\n",
      "Processing Record 22 of Set 3 | orange\n",
      "Processing Record 23 of Set 3 | avarua\n",
      "Processing Record 24 of Set 3 | port lincoln\n",
      "Processing Record 25 of Set 3 | hat yai\n",
      "Processing Record 26 of Set 3 | te anau\n",
      "Processing Record 27 of Set 3 | deputatskiy\n",
      "Processing Record 28 of Set 3 | san cristobal\n",
      "Processing Record 29 of Set 3 | bereda\n",
      "Processing Record 30 of Set 3 | hithadhoo\n",
      "Processing Record 31 of Set 3 | sao joao da barra\n",
      "City not found. Skipping...\n",
      "Processing Record 32 of Set 3 | muros\n",
      "Processing Record 33 of Set 3 | ulladulla\n",
      "Processing Record 34 of Set 3 | bethel\n",
      "Processing Record 35 of Set 3 | pacific grove\n",
      "Processing Record 36 of Set 3 | chuy\n",
      "Processing Record 37 of Set 3 | khani\n",
      "Processing Record 38 of Set 3 | nacala\n",
      "Processing Record 39 of Set 3 | talaya\n",
      "Processing Record 40 of Set 3 | chatakonda\n",
      "City not found. Skipping...\n",
      "Processing Record 41 of Set 3 | bambous virieux\n",
      "Processing Record 42 of Set 3 | jilikul\n",
      "Processing Record 43 of Set 3 | saskylakh\n",
      "Processing Record 44 of Set 3 | saldanha\n",
      "Processing Record 45 of Set 3 | erbaa\n",
      "Processing Record 46 of Set 3 | fortuna\n",
      "Processing Record 47 of Set 3 | izhma\n",
      "Processing Record 48 of Set 3 | muroto\n",
      "Processing Record 49 of Set 3 | ankazoabo\n",
      "Processing Record 50 of Set 3 | borovskoy\n",
      "Processing Record 51 of Set 3 | necochea\n",
      "Processing Record 1 of Set 4 | tilichiki\n",
      "Processing Record 2 of Set 4 | maragogi\n",
      "Processing Record 3 of Set 4 | governador dix-sept rosado\n",
      "Processing Record 4 of Set 4 | plouzane\n",
      "Processing Record 5 of Set 4 | gonen\n",
      "Processing Record 6 of Set 4 | butaritari\n",
      "Processing Record 7 of Set 4 | ponta do sol\n",
      "City not found. Skipping...\n",
      "Processing Record 8 of Set 4 | mehran\n",
      "Processing Record 9 of Set 4 | husavik\n",
      "Processing Record 10 of Set 4 | viedma\n",
      "Processing Record 11 of Set 4 | honningsvag\n",
      "Processing Record 12 of Set 4 | luena\n",
      "Processing Record 13 of Set 4 | kayerkan\n",
      "Processing Record 14 of Set 4 | albany\n",
      "Processing Record 15 of Set 4 | amapa\n",
      "Processing Record 16 of Set 4 | mahebourg\n",
      "Processing Record 17 of Set 4 | nikolskoye\n",
      "Processing Record 18 of Set 4 | alofi\n",
      "Processing Record 19 of Set 4 | hualmay\n",
      "Processing Record 20 of Set 4 | williams lake\n",
      "Processing Record 21 of Set 4 | jardim\n",
      "Processing Record 22 of Set 4 | bengkulu\n",
      "Processing Record 23 of Set 4 | talnakh\n",
      "Processing Record 24 of Set 4 | severo-kurilsk\n",
      "Processing Record 25 of Set 4 | portland\n",
      "City not found. Skipping...\n",
      "Processing Record 26 of Set 4 | dunedin\n",
      "Processing Record 27 of Set 4 | vaitape\n",
      "Processing Record 28 of Set 4 | baruun-urt\n",
      "Processing Record 29 of Set 4 | kuito\n",
      "Processing Record 30 of Set 4 | halifax\n",
      "Processing Record 31 of Set 4 | quatre cocos\n",
      "Processing Record 32 of Set 4 | vila velha\n",
      "Processing Record 33 of Set 4 | ixtapa\n",
      "Processing Record 34 of Set 4 | general pico\n"
     ]
    },
    {
     "name": "stdout",
     "output_type": "stream",
     "text": [
      "City not found. Skipping...\n",
      "Processing Record 35 of Set 4 | emba\n",
      "City not found. Skipping...\n",
      "Processing Record 36 of Set 4 | dongning\n",
      "Processing Record 37 of Set 4 | imeni babushkina\n",
      "Processing Record 38 of Set 4 | namibe\n",
      "Processing Record 39 of Set 4 | bentiu\n",
      "Processing Record 40 of Set 4 | ilulissat\n",
      "Processing Record 41 of Set 4 | los llanos de aridane\n",
      "Processing Record 42 of Set 4 | zwedru\n",
      "Processing Record 43 of Set 4 | henties bay\n",
      "Processing Record 44 of Set 4 | buenaventura\n",
      "Processing Record 45 of Set 4 | kilindoni\n",
      "Processing Record 46 of Set 4 | chapais\n",
      "Processing Record 47 of Set 4 | thompson\n",
      "Processing Record 48 of Set 4 | port alfred\n",
      "Processing Record 49 of Set 4 | tura\n",
      "Processing Record 50 of Set 4 | luderitz\n",
      "City not found. Skipping...\n",
      "Processing Record 51 of Set 4 | torbay\n",
      "Processing Record 1 of Set 5 | pawa\n",
      "Processing Record 2 of Set 5 | kedrovyy\n",
      "Processing Record 3 of Set 5 | sept-iles\n",
      "Processing Record 4 of Set 5 | orlik\n",
      "Processing Record 5 of Set 5 | verkh-usugli\n",
      "Processing Record 6 of Set 5 | yar-sale\n",
      "Processing Record 7 of Set 5 | kavieng\n",
      "Processing Record 8 of Set 5 | sahuaripa\n",
      "City not found. Skipping...\n",
      "Processing Record 9 of Set 5 | coahuayana\n",
      "Processing Record 10 of Set 5 | markova\n",
      "City not found. Skipping...\n",
      "City not found. Skipping...\n",
      "Processing Record 11 of Set 5 | san carlos de bariloche\n",
      "Processing Record 12 of Set 5 | roald\n",
      "Processing Record 13 of Set 5 | ossora\n",
      "Processing Record 14 of Set 5 | dingle\n",
      "Processing Record 15 of Set 5 | salinas\n",
      "Processing Record 16 of Set 5 | najran\n",
      "Processing Record 17 of Set 5 | witu\n",
      "Processing Record 18 of Set 5 | zhigansk\n",
      "Processing Record 19 of Set 5 | katsuura\n",
      "City not found. Skipping...\n",
      "Processing Record 20 of Set 5 | souillac\n",
      "Processing Record 21 of Set 5 | richards bay\n",
      "Processing Record 22 of Set 5 | abeche\n",
      "Processing Record 23 of Set 5 | tasiilaq\n",
      "Processing Record 24 of Set 5 | tuatapere\n",
      "Processing Record 25 of Set 5 | pascagoula\n",
      "Processing Record 26 of Set 5 | coihaique\n",
      "Processing Record 27 of Set 5 | tuktoyaktuk\n",
      "Processing Record 28 of Set 5 | kaitangata\n",
      "Processing Record 29 of Set 5 | castro\n",
      "Processing Record 30 of Set 5 | panama city\n",
      "Processing Record 31 of Set 5 | kirakira\n",
      "Processing Record 32 of Set 5 | medicine hat\n",
      "Processing Record 33 of Set 5 | matamoros\n",
      "Processing Record 34 of Set 5 | walvis bay\n",
      "Processing Record 35 of Set 5 | sinamar\n",
      "Processing Record 36 of Set 5 | marataizes\n",
      "Processing Record 37 of Set 5 | tezu\n",
      "Processing Record 38 of Set 5 | betanzos\n",
      "Processing Record 39 of Set 5 | pierre\n",
      "Processing Record 40 of Set 5 | kodiak\n",
      "Processing Record 41 of Set 5 | aginskoye\n",
      "Processing Record 42 of Set 5 | soma\n",
      "Processing Record 43 of Set 5 | taoudenni\n",
      "City not found. Skipping...\n",
      "Processing Record 44 of Set 5 | acajutla\n",
      "Processing Record 45 of Set 5 | beloha\n",
      "Processing Record 46 of Set 5 | seoul\n",
      "Processing Record 47 of Set 5 | konigswinter\n",
      "Processing Record 48 of Set 5 | hobyo\n",
      "Processing Record 49 of Set 5 | krasnyy chikoy\n",
      "Processing Record 50 of Set 5 | morant bay\n",
      "Processing Record 51 of Set 5 | malayal\n",
      "Processing Record 1 of Set 6 | valparaiso\n",
      "City not found. Skipping...\n",
      "Processing Record 2 of Set 6 | adrar\n",
      "Processing Record 3 of Set 6 | harrisburg\n",
      "Processing Record 4 of Set 6 | araouane\n",
      "Processing Record 5 of Set 6 | verkhoyansk\n",
      "Processing Record 6 of Set 6 | klaksvik\n",
      "Processing Record 7 of Set 6 | batangafo\n",
      "Processing Record 8 of Set 6 | rundu\n",
      "Processing Record 9 of Set 6 | kavaratti\n",
      "Processing Record 10 of Set 6 | xining\n",
      "Processing Record 11 of Set 6 | oksfjord\n",
      "Processing Record 12 of Set 6 | nanortalik\n",
      "Processing Record 13 of Set 6 | cayeli\n",
      "City not found. Skipping...\n",
      "Processing Record 14 of Set 6 | hasaki\n",
      "Processing Record 15 of Set 6 | margate\n",
      "Processing Record 16 of Set 6 | zhezkazgan\n",
      "Processing Record 17 of Set 6 | chipinge\n",
      "Processing Record 18 of Set 6 | shelburne\n",
      "Processing Record 19 of Set 6 | derzhavinsk\n",
      "Processing Record 20 of Set 6 | sal rei\n",
      "Processing Record 21 of Set 6 | visnes\n",
      "Processing Record 22 of Set 6 | moron\n",
      "Processing Record 23 of Set 6 | labuhan\n",
      "Processing Record 24 of Set 6 | nouadhibou\n",
      "Processing Record 25 of Set 6 | gualeguay\n",
      "Processing Record 26 of Set 6 | bururi\n",
      "Processing Record 27 of Set 6 | chumikan\n",
      "Processing Record 28 of Set 6 | aosta\n",
      "City not found. Skipping...\n",
      "Processing Record 29 of Set 6 | semey\n",
      "Processing Record 30 of Set 6 | creel\n",
      "Processing Record 31 of Set 6 | half moon bay\n",
      "Processing Record 32 of Set 6 | veracruz\n",
      "Processing Record 33 of Set 6 | aksu\n",
      "Processing Record 34 of Set 6 | seddon\n",
      "Processing Record 35 of Set 6 | kieta\n",
      "Processing Record 36 of Set 6 | tias\n",
      "Processing Record 37 of Set 6 | peace river\n",
      "Processing Record 38 of Set 6 | aguimes\n",
      "Processing Record 39 of Set 6 | norman wells\n",
      "Processing Record 40 of Set 6 | ostrovnoy\n",
      "Processing Record 41 of Set 6 | paita\n",
      "Processing Record 42 of Set 6 | wewak\n",
      "Processing Record 43 of Set 6 | dalen\n",
      "Processing Record 44 of Set 6 | vestmannaeyjar\n",
      "Processing Record 45 of Set 6 | lavrentiya\n",
      "Processing Record 46 of Set 6 | bagdarin\n",
      "Processing Record 47 of Set 6 | taseyevo\n",
      "Processing Record 48 of Set 6 | karasjok\n",
      "Processing Record 49 of Set 6 | buraydah\n",
      "Processing Record 50 of Set 6 | prado\n",
      "Processing Record 51 of Set 6 | turan\n",
      "City not found. Skipping...\n",
      "Processing Record 1 of Set 7 | sechura\n",
      "Processing Record 2 of Set 7 | tingo maria\n",
      "Processing Record 3 of Set 7 | la ronge\n",
      "Processing Record 4 of Set 7 | presidencia roque saenz pena\n",
      "Processing Record 5 of Set 7 | avera\n",
      "City not found. Skipping...\n",
      "Processing Record 6 of Set 7 | sioux lookout\n",
      "Processing Record 7 of Set 7 | isla mujeres\n",
      "Processing Record 8 of Set 7 | talcahuano\n",
      "Processing Record 9 of Set 7 | port macquarie\n",
      "Processing Record 10 of Set 7 | mahanoro\n",
      "Processing Record 11 of Set 7 | tautira\n",
      "Processing Record 12 of Set 7 | nantucket\n",
      "Processing Record 13 of Set 7 | pangai\n",
      "Processing Record 14 of Set 7 | qasigiannguit\n",
      "Processing Record 15 of Set 7 | alekseyevsk\n",
      "Processing Record 16 of Set 7 | sikonge\n",
      "Processing Record 17 of Set 7 | villaviciosa\n",
      "Processing Record 18 of Set 7 | hamilton\n",
      "Processing Record 19 of Set 7 | aklavik\n",
      "Processing Record 20 of Set 7 | cayenne\n",
      "Processing Record 21 of Set 7 | juneau\n",
      "Processing Record 22 of Set 7 | tulum\n",
      "Processing Record 23 of Set 7 | tamsweg\n",
      "Processing Record 24 of Set 7 | kuliyapitiya\n",
      "Processing Record 25 of Set 7 | jacareacanga\n",
      "Processing Record 26 of Set 7 | arboletes\n",
      "Processing Record 27 of Set 7 | taldom\n",
      "Processing Record 28 of Set 7 | khromtau\n",
      "Processing Record 29 of Set 7 | ligayan\n",
      "Processing Record 30 of Set 7 | tursunzoda\n",
      "Processing Record 31 of Set 7 | dauphin\n",
      "Processing Record 32 of Set 7 | takapau\n",
      "Processing Record 33 of Set 7 | yulara\n",
      "Processing Record 34 of Set 7 | owando\n",
      "Processing Record 35 of Set 7 | whyalla\n",
      "Processing Record 36 of Set 7 | thunder bay\n",
      "Processing Record 37 of Set 7 | tuy hoa\n",
      "Processing Record 38 of Set 7 | bafoulabe\n",
      "Processing Record 39 of Set 7 | itarema\n",
      "Processing Record 40 of Set 7 | gashua\n",
      "City not found. Skipping...\n",
      "Processing Record 41 of Set 7 | iwanai\n",
      "Processing Record 42 of Set 7 | sistranda\n",
      "Processing Record 43 of Set 7 | qandala\n",
      "Processing Record 44 of Set 7 | srivardhan\n",
      "Processing Record 45 of Set 7 | sobolevo\n",
      "Processing Record 46 of Set 7 | zaria\n",
      "Processing Record 47 of Set 7 | mulege\n",
      "Processing Record 48 of Set 7 | birjand\n",
      "Processing Record 49 of Set 7 | watsa\n",
      "Processing Record 50 of Set 7 | verkhovazhye\n",
      "Processing Record 51 of Set 7 | rio gallegos\n",
      "Processing Record 1 of Set 8 | chaoyang\n",
      "City not found. Skipping...\n",
      "Processing Record 2 of Set 8 | manta\n",
      "Processing Record 3 of Set 8 | kupang\n",
      "Processing Record 4 of Set 8 | ambilobe\n",
      "Processing Record 5 of Set 8 | ures\n",
      "Processing Record 6 of Set 8 | eureka\n",
      "Processing Record 7 of Set 8 | twin falls\n",
      "Processing Record 8 of Set 8 | krasnyy gulyay\n",
      "Processing Record 9 of Set 8 | turbat\n",
      "Processing Record 10 of Set 8 | preobrazheniye\n",
      "Processing Record 11 of Set 8 | santa helena de goias\n",
      "Processing Record 12 of Set 8 | neuquen\n",
      "Processing Record 13 of Set 8 | marystown\n",
      "Processing Record 14 of Set 8 | norrtalje\n",
      "Processing Record 15 of Set 8 | daimiel\n",
      "Processing Record 16 of Set 8 | zemetchino\n",
      "City not found. Skipping...\n",
      "Processing Record 17 of Set 8 | aanekoski\n",
      "Processing Record 18 of Set 8 | arlit\n",
      "Processing Record 19 of Set 8 | arman\n",
      "Processing Record 20 of Set 8 | wangaratta\n"
     ]
    },
    {
     "name": "stdout",
     "output_type": "stream",
     "text": [
      "Processing Record 21 of Set 8 | paamiut\n",
      "Processing Record 22 of Set 8 | guarapuava\n",
      "Processing Record 23 of Set 8 | delijan\n",
      "Processing Record 24 of Set 8 | santa vitoria do palmar\n",
      "Processing Record 25 of Set 8 | byumba\n",
      "Processing Record 26 of Set 8 | san patricio\n",
      "Processing Record 27 of Set 8 | dabat\n",
      "Processing Record 28 of Set 8 | faanui\n",
      "Processing Record 29 of Set 8 | nokaneng\n",
      "Processing Record 30 of Set 8 | hami\n",
      "Processing Record 31 of Set 8 | komsomolskiy\n",
      "Processing Record 32 of Set 8 | soubre\n",
      "Processing Record 33 of Set 8 | constitucion\n",
      "Processing Record 34 of Set 8 | mehamn\n",
      "Processing Record 35 of Set 8 | port-gentil\n",
      "Processing Record 36 of Set 8 | marsa matruh\n",
      "Processing Record 37 of Set 8 | cherskiy\n",
      "Processing Record 38 of Set 8 | narsaq\n",
      "Processing Record 39 of Set 8 | leningradskiy\n",
      "Processing Record 40 of Set 8 | lasa\n",
      "City not found. Skipping...\n",
      "Processing Record 41 of Set 8 | tucurui\n",
      "Processing Record 42 of Set 8 | southbridge\n",
      "Processing Record 43 of Set 8 | varkkallai\n",
      "Processing Record 44 of Set 8 | timra\n",
      "Processing Record 45 of Set 8 | mao\n",
      "Processing Record 46 of Set 8 | kununurra\n",
      "Processing Record 47 of Set 8 | ronneby\n",
      "Processing Record 48 of Set 8 | bilibino\n",
      "Processing Record 49 of Set 8 | ahipara\n",
      "Processing Record 50 of Set 8 | tawang\n",
      "Processing Record 51 of Set 8 | chissamba\n",
      "Processing Record 1 of Set 9 | masindi\n",
      "Processing Record 2 of Set 9 | kyren\n",
      "Processing Record 3 of Set 9 | batemans bay\n",
      "Processing Record 4 of Set 9 | isangel\n",
      "Processing Record 5 of Set 9 | hingatungan\n",
      "Processing Record 6 of Set 9 | nabire\n",
      "Processing Record 7 of Set 9 | port blair\n",
      "Processing Record 8 of Set 9 | gondanglegi\n",
      "Processing Record 9 of Set 9 | songjianghe\n",
      "Processing Record 10 of Set 9 | marrakesh\n",
      "Processing Record 11 of Set 9 | brovary\n",
      "Processing Record 12 of Set 9 | marawi\n",
      "Processing Record 13 of Set 9 | hay river\n",
      "Processing Record 14 of Set 9 | praia\n",
      "Processing Record 15 of Set 9 | vozhega\n",
      "Processing Record 16 of Set 9 | kisangani\n",
      "Processing Record 17 of Set 9 | djambala\n",
      "Processing Record 18 of Set 9 | alice springs\n",
      "City not found. Skipping...\n",
      "Processing Record 19 of Set 9 | bathsheba\n",
      "Processing Record 20 of Set 9 | biltine\n",
      "Processing Record 21 of Set 9 | palpa\n",
      "Processing Record 22 of Set 9 | laguna\n",
      "Processing Record 23 of Set 9 | gardelegen\n",
      "Processing Record 24 of Set 9 | parksville\n",
      "Processing Record 25 of Set 9 | salalah\n",
      "Processing Record 26 of Set 9 | nelson bay\n",
      "Processing Record 27 of Set 9 | santiago del estero\n",
      "City not found. Skipping...\n",
      "Processing Record 28 of Set 9 | dan khun thot\n",
      "City not found. Skipping...\n",
      "Processing Record 29 of Set 9 | karratha\n",
      "Processing Record 30 of Set 9 | logon\n",
      "Processing Record 31 of Set 9 | kindu\n",
      "City not found. Skipping...\n",
      "Processing Record 32 of Set 9 | ust-barguzin\n",
      "Processing Record 33 of Set 9 | tshikapa\n",
      "City not found. Skipping...\n",
      "Processing Record 34 of Set 9 | ughelli\n",
      "City not found. Skipping...\n",
      "Processing Record 35 of Set 9 | nambucca heads\n",
      "Processing Record 36 of Set 9 | victor harbor\n",
      "Processing Record 37 of Set 9 | lukovetskiy\n",
      "Processing Record 38 of Set 9 | rawson\n",
      "Processing Record 39 of Set 9 | boende\n",
      "Processing Record 40 of Set 9 | puerto colombia\n",
      "Processing Record 41 of Set 9 | vostok\n",
      "Processing Record 42 of Set 9 | kwekwe\n",
      "Processing Record 43 of Set 9 | kamina\n",
      "Processing Record 44 of Set 9 | anjozorobe\n",
      "Processing Record 45 of Set 9 | jalu\n",
      "Processing Record 46 of Set 9 | kaihua\n",
      "Processing Record 47 of Set 9 | poyarkovo\n",
      "Processing Record 48 of Set 9 | thinadhoo\n",
      "Processing Record 49 of Set 9 | nuuk\n",
      "Processing Record 50 of Set 9 | klyuchi\n",
      "Processing Record 51 of Set 9 | strezhevoy\n",
      "Processing Record 1 of Set 10 | sao gabriel da cachoeira\n",
      "Processing Record 2 of Set 10 | ornskoldsvik\n",
      "Processing Record 3 of Set 10 | tucuman\n",
      "Processing Record 4 of Set 10 | barbacoas\n",
      "Processing Record 5 of Set 10 | iqaluit\n",
      "Processing Record 6 of Set 10 | vestmanna\n",
      "Processing Record 7 of Set 10 | barcarena\n",
      "Processing Record 8 of Set 10 | magnolia\n",
      "Processing Record 9 of Set 10 | abnub\n",
      "Processing Record 10 of Set 10 | koumac\n",
      "City not found. Skipping...\n",
      "City not found. Skipping...\n",
      "City not found. Skipping...\n",
      "Processing Record 11 of Set 10 | tokur\n",
      "Processing Record 12 of Set 10 | saint-pierre\n",
      "Processing Record 13 of Set 10 | sitka\n",
      "Processing Record 14 of Set 10 | rio claro\n",
      "Processing Record 15 of Set 10 | gizo\n",
      "Processing Record 16 of Set 10 | curaca\n",
      "Processing Record 17 of Set 10 | wanning\n",
      "City not found. Skipping...\n",
      "Processing Record 18 of Set 10 | chebsara\n",
      "Processing Record 19 of Set 10 | los chiles\n",
      "City not found. Skipping...\n",
      "Processing Record 20 of Set 10 | changji\n",
      "Processing Record 21 of Set 10 | tecoanapa\n",
      "Processing Record 22 of Set 10 | biak\n",
      "City not found. Skipping...\n",
      "Processing Record 23 of Set 10 | tsaratanana\n",
      "Processing Record 24 of Set 10 | maridi\n",
      "Processing Record 25 of Set 10 | lhokseumawe\n",
      "Processing Record 26 of Set 10 | fuerte olimpo\n",
      "Processing Record 27 of Set 10 | elizabeth city\n",
      "Processing Record 28 of Set 10 | flinders\n",
      "Processing Record 29 of Set 10 | steamboat springs\n",
      "Processing Record 30 of Set 10 | kailua\n",
      "Processing Record 31 of Set 10 | touba\n",
      "Processing Record 32 of Set 10 | emerald\n",
      "Processing Record 33 of Set 10 | zhicheng\n",
      "Processing Record 34 of Set 10 | gamba\n",
      "Processing Record 35 of Set 10 | eydhafushi\n",
      "Processing Record 36 of Set 10 | daura\n",
      "Processing Record 37 of Set 10 | churapcha\n",
      "Processing Record 38 of Set 10 | kapoeta\n",
      "Processing Record 39 of Set 10 | broken hill\n",
      "Processing Record 40 of Set 10 | pevek\n",
      "City not found. Skipping...\n",
      "Processing Record 41 of Set 10 | ventspils\n",
      "Processing Record 42 of Set 10 | kruisfontein\n",
      "Processing Record 43 of Set 10 | jijiga\n",
      "Processing Record 44 of Set 10 | mae sai\n",
      "Processing Record 45 of Set 10 | manado\n",
      "Processing Record 46 of Set 10 | abbeville\n",
      "Processing Record 47 of Set 10 | praia da vitoria\n",
      "Processing Record 48 of Set 10 | majenang\n",
      "Processing Record 49 of Set 10 | sao borja\n",
      "Processing Record 50 of Set 10 | kidal\n",
      "Processing Record 51 of Set 10 | sestri levante\n",
      "Processing Record 1 of Set 11 | evensk\n",
      "Processing Record 2 of Set 11 | kharagauli\n",
      "Processing Record 3 of Set 11 | maua\n",
      "Processing Record 4 of Set 11 | kimberley\n",
      "Processing Record 5 of Set 11 | malakal\n",
      "Processing Record 6 of Set 11 | carballo\n",
      "Processing Record 7 of Set 11 | minot\n",
      "Processing Record 8 of Set 11 | thomasville\n",
      "City not found. Skipping...\n",
      "Processing Record 9 of Set 11 | hammerfest\n",
      "Processing Record 10 of Set 11 | lompoc\n",
      "Processing Record 11 of Set 11 | ino\n",
      "Processing Record 12 of Set 11 | kuching\n",
      "Processing Record 13 of Set 11 | kisanga\n",
      "Processing Record 14 of Set 11 | kenora\n",
      "Processing Record 15 of Set 11 | mantua\n",
      "Processing Record 16 of Set 11 | picota\n",
      "Processing Record 17 of Set 11 | sabalgarh\n",
      "Processing Record 18 of Set 11 | fairbanks\n",
      "Processing Record 19 of Set 11 | vernon\n",
      "Processing Record 20 of Set 11 | yumen\n",
      "Processing Record 21 of Set 11 | sorong\n",
      "Processing Record 22 of Set 11 | bairiki\n",
      "Processing Record 23 of Set 11 | edea\n",
      "Processing Record 24 of Set 11 | keningau\n",
      "Processing Record 25 of Set 11 | roma\n",
      "Processing Record 26 of Set 11 | krasnoselkup\n",
      "Processing Record 27 of Set 11 | kure\n",
      "Processing Record 28 of Set 11 | traiguen\n",
      "City not found. Skipping...\n",
      "Processing Record 29 of Set 11 | kutum\n",
      "Processing Record 30 of Set 11 | bijie\n",
      "Processing Record 31 of Set 11 | conceicao do araguaia\n",
      "Processing Record 32 of Set 11 | naze\n",
      "Processing Record 33 of Set 11 | padre bernardo\n",
      "Processing Record 34 of Set 11 | shimoda\n",
      "Processing Record 35 of Set 11 | port hardy\n"
     ]
    }
   ],
   "source": [
    "# Retrieve data for cities\n",
    "for city in cities:\n",
    "    try:\n",
    "        \n",
    "        # API Call\n",
    "        response = requests.get(query_url + city).json()\n",
    "        \n",
    "        \n",
    "        latitudes.append(response['coord']['lat'])\n",
    "        longitudes.append(response['coord']['lon'])\n",
    "        temperature.append(response['main']['temp_max'])\n",
    "        humidity.append(response['main']['humidity'])\n",
    "        cloudiness.append(response['clouds']['all'])\n",
    "        wind_speed.append(response['wind']['speed'])\n",
    "        country_name.append(response['sys']['country'])\n",
    "        date.append(response['dt'])\n",
    "        \n",
    "        \n",
    "        if index_counter > 50:\n",
    "            index_counter = 0\n",
    "            set_counter += 1\n",
    "            city_names.append(city)\n",
    "        else:\n",
    "            index_counter += 1\n",
    "            city_names.append(city)\n",
    "            print(f\"Processing Record {index_counter} of Set {set_counter} | {city}\")\n",
    "    except (KeyError, IndexError):\n",
    "        \n",
    "        print(\"City not found. Skipping...\")\n"
   ]
  },
  {
   "cell_type": "code",
   "execution_count": 5,
   "metadata": {},
   "outputs": [
    {
     "data": {
      "text/html": [
       "<div>\n",
       "<style scoped>\n",
       "    .dataframe tbody tr th:only-of-type {\n",
       "        vertical-align: middle;\n",
       "    }\n",
       "\n",
       "    .dataframe tbody tr th {\n",
       "        vertical-align: top;\n",
       "    }\n",
       "\n",
       "    .dataframe thead th {\n",
       "        text-align: right;\n",
       "    }\n",
       "</style>\n",
       "<table border=\"1\" class=\"dataframe\">\n",
       "  <thead>\n",
       "    <tr style=\"text-align: right;\">\n",
       "      <th></th>\n",
       "      <th>City</th>\n",
       "      <th>Lat</th>\n",
       "      <th>Lng</th>\n",
       "      <th>Country</th>\n",
       "      <th>Wind</th>\n",
       "      <th>Cloud</th>\n",
       "      <th>Humidity</th>\n",
       "      <th>Max Temp.</th>\n",
       "      <th>Date</th>\n",
       "    </tr>\n",
       "  </thead>\n",
       "  <tbody>\n",
       "    <tr>\n",
       "      <th>0</th>\n",
       "      <td>busselton</td>\n",
       "      <td>-33.65</td>\n",
       "      <td>115.33</td>\n",
       "      <td>AU</td>\n",
       "      <td>17.29</td>\n",
       "      <td>0</td>\n",
       "      <td>21</td>\n",
       "      <td>88.00</td>\n",
       "      <td>1606199377</td>\n",
       "    </tr>\n",
       "    <tr>\n",
       "      <th>1</th>\n",
       "      <td>jamestown</td>\n",
       "      <td>42.10</td>\n",
       "      <td>-79.24</td>\n",
       "      <td>US</td>\n",
       "      <td>6.93</td>\n",
       "      <td>90</td>\n",
       "      <td>96</td>\n",
       "      <td>35.01</td>\n",
       "      <td>1606199166</td>\n",
       "    </tr>\n",
       "    <tr>\n",
       "      <th>2</th>\n",
       "      <td>hilo</td>\n",
       "      <td>19.73</td>\n",
       "      <td>-155.09</td>\n",
       "      <td>US</td>\n",
       "      <td>3.02</td>\n",
       "      <td>90</td>\n",
       "      <td>94</td>\n",
       "      <td>73.40</td>\n",
       "      <td>1606199377</td>\n",
       "    </tr>\n",
       "    <tr>\n",
       "      <th>3</th>\n",
       "      <td>rikitea</td>\n",
       "      <td>-23.12</td>\n",
       "      <td>-134.97</td>\n",
       "      <td>PF</td>\n",
       "      <td>7.20</td>\n",
       "      <td>100</td>\n",
       "      <td>68</td>\n",
       "      <td>74.03</td>\n",
       "      <td>1606199378</td>\n",
       "    </tr>\n",
       "    <tr>\n",
       "      <th>4</th>\n",
       "      <td>axim</td>\n",
       "      <td>4.87</td>\n",
       "      <td>-2.24</td>\n",
       "      <td>GH</td>\n",
       "      <td>3.94</td>\n",
       "      <td>25</td>\n",
       "      <td>86</td>\n",
       "      <td>77.38</td>\n",
       "      <td>1606199378</td>\n",
       "    </tr>\n",
       "  </tbody>\n",
       "</table>\n",
       "</div>"
      ],
      "text/plain": [
       "        City    Lat     Lng Country   Wind  Cloud  Humidity  Max Temp.  \\\n",
       "0  busselton -33.65  115.33      AU  17.29      0        21      88.00   \n",
       "1  jamestown  42.10  -79.24      US   6.93     90        96      35.01   \n",
       "2       hilo  19.73 -155.09      US   3.02     90        94      73.40   \n",
       "3    rikitea -23.12 -134.97      PF   7.20    100        68      74.03   \n",
       "4       axim   4.87   -2.24      GH   3.94     25        86      77.38   \n",
       "\n",
       "         Date  \n",
       "0  1606199377  \n",
       "1  1606199166  \n",
       "2  1606199377  \n",
       "3  1606199378  \n",
       "4  1606199378  "
      ]
     },
     "execution_count": 5,
     "metadata": {},
     "output_type": "execute_result"
    }
   ],
   "source": [
    "weather_df = pd.DataFrame({\"City\": city_names, \"Lat\": latitudes, \"Lng\": longitudes,\n",
    "                          \"Country\": country_name, \"Wind\": wind_speed, \"Cloud\": cloudiness,\n",
    "                          \"Humidity\": humidity, \"Max Temp.\": temperature, \"Date\": date})\n",
    "weather_df.head()\n"
   ]
  },
  {
   "cell_type": "code",
   "execution_count": 26,
   "metadata": {},
   "outputs": [],
   "source": [
    "# output as csv\n",
    "weather_df.to_csv(\"output_data/weather_data.csv\")\n",
    "weather_df.to_html(\"output_data/weather_data.html\")"
   ]
  },
  {
   "cell_type": "code",
   "execution_count": 7,
   "metadata": {},
   "outputs": [
    {
     "data": {
      "text/html": [
       "<div>\n",
       "<style scoped>\n",
       "    .dataframe tbody tr th:only-of-type {\n",
       "        vertical-align: middle;\n",
       "    }\n",
       "\n",
       "    .dataframe tbody tr th {\n",
       "        vertical-align: top;\n",
       "    }\n",
       "\n",
       "    .dataframe thead th {\n",
       "        text-align: right;\n",
       "    }\n",
       "</style>\n",
       "<table border=\"1\" class=\"dataframe\">\n",
       "  <thead>\n",
       "    <tr style=\"text-align: right;\">\n",
       "      <th></th>\n",
       "      <th>Lat</th>\n",
       "      <th>Lng</th>\n",
       "      <th>Wind</th>\n",
       "      <th>Cloud</th>\n",
       "      <th>Humidity</th>\n",
       "      <th>Max Temp.</th>\n",
       "      <th>Date</th>\n",
       "    </tr>\n",
       "  </thead>\n",
       "  <tbody>\n",
       "    <tr>\n",
       "      <th>count</th>\n",
       "      <td>555.000000</td>\n",
       "      <td>555.000000</td>\n",
       "      <td>555.000000</td>\n",
       "      <td>555.000000</td>\n",
       "      <td>555.000000</td>\n",
       "      <td>555.000000</td>\n",
       "      <td>5.550000e+02</td>\n",
       "    </tr>\n",
       "    <tr>\n",
       "      <th>mean</th>\n",
       "      <td>17.961279</td>\n",
       "      <td>15.613928</td>\n",
       "      <td>8.131351</td>\n",
       "      <td>55.491892</td>\n",
       "      <td>74.243243</td>\n",
       "      <td>55.853207</td>\n",
       "      <td>1.606199e+09</td>\n",
       "    </tr>\n",
       "    <tr>\n",
       "      <th>std</th>\n",
       "      <td>33.850305</td>\n",
       "      <td>90.000294</td>\n",
       "      <td>5.352778</td>\n",
       "      <td>39.987063</td>\n",
       "      <td>19.955915</td>\n",
       "      <td>25.635846</td>\n",
       "      <td>8.654800e+01</td>\n",
       "    </tr>\n",
       "    <tr>\n",
       "      <th>min</th>\n",
       "      <td>-54.800000</td>\n",
       "      <td>-175.200000</td>\n",
       "      <td>0.220000</td>\n",
       "      <td>0.000000</td>\n",
       "      <td>10.000000</td>\n",
       "      <td>-18.960000</td>\n",
       "      <td>1.606199e+09</td>\n",
       "    </tr>\n",
       "    <tr>\n",
       "      <th>25%</th>\n",
       "      <td>-9.150000</td>\n",
       "      <td>-62.385000</td>\n",
       "      <td>3.990000</td>\n",
       "      <td>11.500000</td>\n",
       "      <td>64.000000</td>\n",
       "      <td>35.600000</td>\n",
       "      <td>1.606199e+09</td>\n",
       "    </tr>\n",
       "    <tr>\n",
       "      <th>50%</th>\n",
       "      <td>18.440000</td>\n",
       "      <td>20.040000</td>\n",
       "      <td>6.930000</td>\n",
       "      <td>75.000000</td>\n",
       "      <td>80.000000</td>\n",
       "      <td>63.120000</td>\n",
       "      <td>1.606199e+09</td>\n",
       "    </tr>\n",
       "    <tr>\n",
       "      <th>75%</th>\n",
       "      <td>47.420000</td>\n",
       "      <td>96.660000</td>\n",
       "      <td>11.385000</td>\n",
       "      <td>96.000000</td>\n",
       "      <td>90.000000</td>\n",
       "      <td>77.075000</td>\n",
       "      <td>1.606200e+09</td>\n",
       "    </tr>\n",
       "    <tr>\n",
       "      <th>max</th>\n",
       "      <td>78.220000</td>\n",
       "      <td>178.420000</td>\n",
       "      <td>35.570000</td>\n",
       "      <td>100.000000</td>\n",
       "      <td>100.000000</td>\n",
       "      <td>104.000000</td>\n",
       "      <td>1.606200e+09</td>\n",
       "    </tr>\n",
       "  </tbody>\n",
       "</table>\n",
       "</div>"
      ],
      "text/plain": [
       "              Lat         Lng        Wind       Cloud    Humidity   Max Temp.  \\\n",
       "count  555.000000  555.000000  555.000000  555.000000  555.000000  555.000000   \n",
       "mean    17.961279   15.613928    8.131351   55.491892   74.243243   55.853207   \n",
       "std     33.850305   90.000294    5.352778   39.987063   19.955915   25.635846   \n",
       "min    -54.800000 -175.200000    0.220000    0.000000   10.000000  -18.960000   \n",
       "25%     -9.150000  -62.385000    3.990000   11.500000   64.000000   35.600000   \n",
       "50%     18.440000   20.040000    6.930000   75.000000   80.000000   63.120000   \n",
       "75%     47.420000   96.660000   11.385000   96.000000   90.000000   77.075000   \n",
       "max     78.220000  178.420000   35.570000  100.000000  100.000000  104.000000   \n",
       "\n",
       "               Date  \n",
       "count  5.550000e+02  \n",
       "mean   1.606199e+09  \n",
       "std    8.654800e+01  \n",
       "min    1.606199e+09  \n",
       "25%    1.606199e+09  \n",
       "50%    1.606199e+09  \n",
       "75%    1.606200e+09  \n",
       "max    1.606200e+09  "
      ]
     },
     "execution_count": 7,
     "metadata": {},
     "output_type": "execute_result"
    }
   ],
   "source": [
    "# describe dataframe\n",
    "weather_df.describe()"
   ]
  },
  {
   "cell_type": "code",
   "execution_count": 8,
   "metadata": {},
   "outputs": [
    {
     "data": {
      "text/plain": [
       "100"
      ]
     },
     "execution_count": 8,
     "metadata": {},
     "output_type": "execute_result"
    }
   ],
   "source": [
    "weather_df[\"Humidity\"].max()\n",
    "# no outliers"
   ]
  },
  {
   "cell_type": "code",
   "execution_count": 9,
   "metadata": {},
   "outputs": [
    {
     "name": "stdout",
     "output_type": "stream",
     "text": [
      "Values below 25.0 could be outliers.\n",
      "Values above 129.0 could be outliers.\n"
     ]
    }
   ],
   "source": [
    "# dropping humidity outliers by index \n",
    "\n",
    "quartiles = weather_df[\"Humidity\"].quantile([.25, .5, .75])\n",
    "\n",
    "lower_q = quartiles[.25]\n",
    "upper_q = quartiles[.75]\n",
    "iqr = upper_q - lower_q\n",
    "\n",
    "upper_bound = upper_q + (1.5*iqr)\n",
    "lower_bound = lower_q - (1.5*iqr)\n",
    "\n",
    "print(f\"Values below {lower_bound} could be outliers.\")\n",
    "print(f\"Values above {upper_bound} could be outliers.\")\n",
    "\n"
   ]
  },
  {
   "cell_type": "code",
   "execution_count": 10,
   "metadata": {},
   "outputs": [
    {
     "data": {
      "text/plain": [
       "City         525\n",
       "Lat          525\n",
       "Lng          525\n",
       "Country      525\n",
       "Wind         525\n",
       "Cloud        525\n",
       "Humidity     525\n",
       "Max Temp.    525\n",
       "Date         525\n",
       "dtype: int64"
      ]
     },
     "execution_count": 10,
     "metadata": {},
     "output_type": "execute_result"
    }
   ],
   "source": [
    "clean_city_data = pd.DataFrame(weather_df[weather_df.Humidity >= 32.5])\n",
    "clean_city_data.count()"
   ]
  },
  {
   "cell_type": "code",
   "execution_count": 11,
   "metadata": {},
   "outputs": [],
   "source": [
    "clean_city_data.to_csv(\"output_data/clean_city_data.csv\")"
   ]
  },
  {
   "cell_type": "code",
   "execution_count": 12,
   "metadata": {},
   "outputs": [
    {
     "data": {
      "image/png": "[encoded data removed]",
      "text/plain": [
       "<Figure size 432x288 with 1 Axes>"
      ]
     },
     "metadata": {
      "needs_background": "light"
     },
     "output_type": "display_data"
    }
   ],
   "source": [
    "# Latitude vs. Max Temperature\n",
    "\n",
    "plt.scatter(clean_city_data[\"Lat\"], clean_city_data[\"Max Temp.\"], edgecolors=\"black\", facecolors=\"blue\")\n",
    "plt.xlabel(\"Latitude\")\n",
    "plt.ylabel(\"Max Temperatures (F)\")\n",
    "plt.title(\"City Latitude vs. Max Temperature\")\n",
    "plt.grid(alpha=0.5)\n",
    "plt.savefig(\"Images/lat_temps.png\")"
   ]
  },
  {
   "cell_type": "code",
   "execution_count": 13,
   "metadata": {},
   "outputs": [
    {
     "data": {
      "image/png": "[encoded data removed]",
      "text/plain": [
       "<Figure size 432x288 with 1 Axes>"
      ]
     },
     "metadata": {
      "needs_background": "light"
     },
     "output_type": "display_data"
    }
   ],
   "source": [
    "# Latitude vs. Humidity\n",
    "plt.scatter(clean_city_data[\"Lat\"], clean_city_data[\"Humidity\"], edgecolors=\"black\", facecolors= \"blue\")\n",
    "plt.xlabel(\"Latitude\")\n",
    "plt.ylabel(\"Humidity (%)\")\n",
    "plt.title(\"Latitude vs. Humidity\")\n",
    "\n",
    "plt.grid(alpha=0.5)\n",
    "plt.savefig(\"Images/lat_humidity.png\")"
   ]
  },
  {
   "cell_type": "code",
   "execution_count": 14,
   "metadata": {},
   "outputs": [
    {
     "data": {
      "image/png": "[encoded data removed]",
      "text/plain": [
       "<Figure size 432x288 with 1 Axes>"
      ]
     },
     "metadata": {
      "needs_background": "light"
     },
     "output_type": "display_data"
    }
   ],
   "source": [
    "# Latitude vs Cloudiness\n",
    "\n",
    "plt.scatter(clean_city_data[\"Lat\"], clean_city_data[\"Cloud\"], edgecolors=\"black\", facecolors=\"blue\")\n",
    "plt.xlabel(\"Latitude\")\n",
    "plt.ylabel(\"Cloudiness\")\n",
    "plt.title(\"Latitude vs. Cloudiness\")\n",
    "plt.grid(alpha=0.5)\n",
    "plt.savefig(\"Images/Lat_Cloud.png\")"
   ]
  },
  {
   "cell_type": "code",
   "execution_count": 15,
   "metadata": {},
   "outputs": [
    {
     "data": {
      "image/png": "[encoded data removed]",
      "text/plain": [
       "<Figure size 432x288 with 1 Axes>"
      ]
     },
     "metadata": {
      "needs_background": "light"
     },
     "output_type": "display_data"
    }
   ],
   "source": [
    "# Latitude vs. Wind Speed\n",
    "\n",
    "plt.scatter(clean_city_data[\"Lat\"], clean_city_data[\"Wind\"], edgecolors=\"black\", facecolors=\"blue\")\n",
    "plt.xlabel(\"Latitude\")\n",
    "plt.ylabel(\"Wind Speed\")\n",
    "plt.title(\"Latitude vs. Wind Speed\")\n",
    "plt.grid(alpha=0.5)\n",
    "plt.savefig(\"Images/Lat_Wind.png\")"
   ]
  },
  {
   "cell_type": "code",
   "execution_count": 16,
   "metadata": {},
   "outputs": [
    {
     "name": "stdout",
     "output_type": "stream",
     "text": [
      "The rvalue is: -0.8976059684269196\n"
     ]
    },
    {
     "data": {
      "image/png": "[encoded data removed]",
      "text/plain": [
       "<Figure size 432x288 with 1 Axes>"
      ]
     },
     "metadata": {
      "needs_background": "light"
     },
     "output_type": "display_data"
    }
   ],
   "source": [
    "# Liner Regression - Max Temp vs. Latitude \n",
    "northern_hemisphere = pd.DataFrame(clean_city_data.loc[clean_city_data[\"Lat\"] >= 0])\n",
    "x_values = northern_hemisphere[\"Lat\"]\n",
    "y_values = northern_hemisphere[\"Max Temp.\"]\n",
    "\n",
    "(slope, intercept, rvalue, pvalue, stderr) = linregress(x_values, y_values)\n",
    "\n",
    "regress_values = x_values * slope + intercept\n",
    "line_eq = \"y = \" + str(round(slope,3)) + \"x + \" + str(round(intercept,2))\n",
    "\n",
    "plt.plot(x_values, regress_values, \"r-\" )\n",
    "plt.scatter(x_values, y_values, edgecolors=\"black\", facecolors=\"blue\")\n",
    "plt.xlabel(\"Latitude\")\n",
    "plt.ylabel(\"Max Temp\")\n",
    "plt.annotate(line_eq,(0,10), fontsize=20, color=\"red\")\n",
    "plt.savefig(\"Images/NH_Lat_temp_regress.png\")\n",
    "print(f\"The rvalue is: {rvalue}\")"
   ]
  },
  {
   "cell_type": "code",
   "execution_count": 17,
   "metadata": {},
   "outputs": [
    {
     "name": "stdout",
     "output_type": "stream",
     "text": [
      "The rvalue is: 0.5919086031682155\n"
     ]
    },
    {
     "data": {
      "image/png": "[encoded data removed]",
      "text/plain": [
       "<Figure size 432x288 with 1 Axes>"
      ]
     },
     "metadata": {
      "needs_background": "light"
     },
     "output_type": "display_data"
    }
   ],
   "source": [
    "# Liner Regression - Max Temp vs. Latitude \n",
    "southern_hemisphere = pd.DataFrame(clean_city_data.loc[clean_city_data[\"Lat\"] < 0])\n",
    "x_values = southern_hemisphere[\"Lat\"]\n",
    "y_values = southern_hemisphere[\"Max Temp.\"]\n",
    "\n",
    "(slope, intercept, rvalue, pvalue, stderr) = linregress(x_values, y_values)\n",
    "\n",
    "regress_values = x_values * slope + intercept\n",
    "line_eq = \"y = \" + str(round(slope,3)) + \"x + \" + str(round(intercept,2))\n",
    "\n",
    "plt.plot(x_values, regress_values, \"r-\" )\n",
    "plt.scatter(x_values, y_values, edgecolors=\"black\", facecolors=\"blue\")\n",
    "plt.xlabel(\"Latitude\")\n",
    "plt.ylabel(\"Max Temp\")\n",
    "plt.annotate(line_eq,(-40,40), fontsize=20, color=\"red\")\n",
    "plt.savefig(\"Images/SH_Lat_temp_regress.png\")\n",
    "print(f\"The rvalue is: {rvalue}\")"
   ]
  },
  {
   "cell_type": "code",
   "execution_count": 18,
   "metadata": {},
   "outputs": [
    {
     "name": "stdout",
     "output_type": "stream",
     "text": [
      "The rvalue is: 0.3521079199021316\n"
     ]
    },
    {
     "data": {
      "image/png": "[encoded data removed]",
      "text/plain": [
       "<Figure size 432x288 with 1 Axes>"
      ]
     },
     "metadata": {
      "needs_background": "light"
     },
     "output_type": "display_data"
    }
   ],
   "source": [
    "# Northern Hempisphere Latitude vs. Humidity \n",
    "northern_hemisphere = pd.DataFrame(clean_city_data.loc[clean_city_data[\"Lat\"] >= 0])\n",
    "x_values = northern_hemisphere[\"Lat\"]\n",
    "y_values = northern_hemisphere[\"Humidity\"]\n",
    "\n",
    "(slope, intercept, rvalue, pvalue, stderr) = linregress(x_values, y_values)\n",
    "\n",
    "regress_values = x_values * slope + intercept\n",
    "line_eq = \"y = \" + str(round(slope,3)) + \"x + \" + str(round(intercept,2))\n",
    "\n",
    "plt.plot(x_values, regress_values, \"r-\" )\n",
    "plt.scatter(x_values, y_values, edgecolors=\"black\", facecolors=\"blue\")\n",
    "plt.xlabel(\"Latitude\")\n",
    "plt.ylabel(\"Humidity\")\n",
    "plt.annotate(line_eq,(10,40), fontsize=20, color=\"red\")\n",
    "plt.savefig(\"Images/NH_Lat_Humidity_regress.png\")\n",
    "print(f\"The rvalue is: {rvalue}\")"
   ]
  },
  {
   "cell_type": "code",
   "execution_count": 19,
   "metadata": {},
   "outputs": [
    {
     "name": "stdout",
     "output_type": "stream",
     "text": [
      "The rvalue is: 0.3178797298520434\n"
     ]
    },
    {
     "data": {
      "image/png": "[encoded data removed]",
      "text/plain": [
       "<Figure size 432x288 with 1 Axes>"
      ]
     },
     "metadata": {
      "needs_background": "light"
     },
     "output_type": "display_data"
    }
   ],
   "source": [
    "southern_hemisphere = pd.DataFrame(clean_city_data.loc[clean_city_data[\"Lat\"] < 0])\n",
    "x_values = southern_hemisphere[\"Lat\"]\n",
    "y_values = southern_hemisphere[\"Humidity\"]\n",
    "\n",
    "(slope, intercept, rvalue, pvalue, stderr) = linregress(x_values, y_values)\n",
    "\n",
    "regress_values = x_values * slope + intercept\n",
    "line_eq = \"y = \" + str(round(slope,3)) + \"x + \" + str(round(intercept,2))\n",
    "\n",
    "plt.plot(x_values, regress_values, \"r-\" )\n",
    "plt.scatter(x_values, y_values, edgecolors=\"black\", facecolors=\"blue\")\n",
    "plt.xlabel(\"Latitude\")\n",
    "plt.ylabel(\"Humidity\")\n",
    "plt.annotate(line_eq,(-50,40), fontsize=20, color=\"red\")\n",
    "plt.savefig(\"Images/SH_Lat_Humidity_regress.png\")\n",
    "print(f\"The rvalue is: {rvalue}\")"
   ]
  },
  {
   "cell_type": "code",
   "execution_count": 20,
   "metadata": {},
   "outputs": [
    {
     "name": "stdout",
     "output_type": "stream",
     "text": [
      "The rvalue is: 0.2699069302209566\n"
     ]
    },
    {
     "data": {
      "image/png": "[encoded data removed]",
      "text/plain": [
       "<Figure size 432x288 with 1 Axes>"
      ]
     },
     "metadata": {
      "needs_background": "light"
     },
     "output_type": "display_data"
    }
   ],
   "source": [
    "northern_hemisphere = pd.DataFrame(clean_city_data.loc[clean_city_data[\"Lat\"] >= 0])\n",
    "x_values = northern_hemisphere[\"Lat\"]\n",
    "y_values = northern_hemisphere[\"Cloud\"]\n",
    "\n",
    "(slope, intercept, rvalue, pvalue, stderr) = linregress(x_values, y_values)\n",
    "\n",
    "regress_values = x_values * slope + intercept\n",
    "line_eq = \"y = \" + str(round(slope,3)) + \"x + \" + str(round(intercept,2))\n",
    "\n",
    "plt.plot(x_values, regress_values, \"r-\" )\n",
    "plt.scatter(x_values, y_values, edgecolors=\"black\", facecolors=\"blue\")\n",
    "plt.xlabel(\"Latitude\")\n",
    "plt.ylabel(\"Cloudiness\")\n",
    "plt.annotate(line_eq,(10,27), fontsize=20, color=\"red\")\n",
    "plt.savefig(\"Images/NH_Lat_cloud_regress.png\")\n",
    "print(f\"The rvalue is: {rvalue}\")"
   ]
  },
  {
   "cell_type": "code",
   "execution_count": 21,
   "metadata": {},
   "outputs": [
    {
     "name": "stdout",
     "output_type": "stream",
     "text": [
      "The rvalue is: 0.17303871249003244\n"
     ]
    },
    {
     "data": {
      "image/png": "[encoded data removed]",
      "text/plain": [
       "<Figure size 432x288 with 1 Axes>"
      ]
     },
     "metadata": {
      "needs_background": "light"
     },
     "output_type": "display_data"
    }
   ],
   "source": [
    "southern_hemisphere = pd.DataFrame(clean_city_data.loc[clean_city_data[\"Lat\"] < 0])\n",
    "x_values = southern_hemisphere[\"Lat\"]\n",
    "y_values = southern_hemisphere[\"Cloud\"]\n",
    "\n",
    "(slope, intercept, rvalue, pvalue, stderr) = linregress(x_values, y_values)\n",
    "\n",
    "regress_values = x_values * slope + intercept\n",
    "line_eq = \"y = \" + str(round(slope,3)) + \"x + \" + str(round(intercept,2))\n",
    "\n",
    "plt.plot(x_values, regress_values, \"r-\" )\n",
    "plt.scatter(x_values, y_values, edgecolors=\"black\", facecolors=\"blue\")\n",
    "plt.xlabel(\"Latitude\")\n",
    "plt.ylabel(\"Cloudiness\")\n",
    "plt.annotate(line_eq,(-50,23), fontsize=20, color=\"red\")\n",
    "plt.savefig(\"Images/SH_Lat_cloud_regress.png\")\n",
    "print(f\"The rvalue is: {rvalue}\")"
   ]
  },
  {
   "cell_type": "code",
   "execution_count": 22,
   "metadata": {},
   "outputs": [
    {
     "name": "stdout",
     "output_type": "stream",
     "text": [
      "The rvalue is: 0.18397559411851808\n"
     ]
    },
    {
     "data": {
      "image/png": "[encoded data removed]",
      "text/plain": [
       "<Figure size 432x288 with 1 Axes>"
      ]
     },
     "metadata": {
      "needs_background": "light"
     },
     "output_type": "display_data"
    }
   ],
   "source": [
    "northern_hemisphere = pd.DataFrame(clean_city_data.loc[clean_city_data[\"Lat\"] >= 0])\n",
    "x_values = northern_hemisphere[\"Lat\"]\n",
    "y_values = northern_hemisphere[\"Wind\"]\n",
    "\n",
    "(slope, intercept, rvalue, pvalue, stderr) = linregress(x_values, y_values)\n",
    "\n",
    "regress_values = x_values * slope + intercept\n",
    "line_eq = \"y = \" + str(round(slope,3)) + \"x + \" + str(round(intercept,2))\n",
    "\n",
    "plt.plot(x_values, regress_values, \"r-\" )\n",
    "plt.scatter(x_values, y_values, edgecolors=\"black\", facecolors=\"blue\")\n",
    "plt.xlabel(\"Latitude\")\n",
    "plt.ylabel(\"Wind Speed\")\n",
    "plt.annotate(line_eq,(10,40), fontsize=20, color=\"red\")\n",
    "plt.savefig(\"Images/NH_Lat_wind_regress.png\")\n",
    "print(f\"The rvalue is: {rvalue}\")"
   ]
  },
  {
   "cell_type": "code",
   "execution_count": 23,
   "metadata": {},
   "outputs": [
    {
     "name": "stdout",
     "output_type": "stream",
     "text": [
      "The rvalue is: -0.33345409218367683\n"
     ]
    },
    {
     "data": {
      "image/png": "[encoded data removed]",
      "text/plain": [
       "<Figure size 432x288 with 1 Axes>"
      ]
     },
     "metadata": {
      "needs_background": "light"
     },
     "output_type": "display_data"
    }
   ],
   "source": [
    "southern_hemisphere = pd.DataFrame(clean_city_data.loc[clean_city_data[\"Lat\"] < 0])\n",
    "x_values = southern_hemisphere[\"Lat\"]\n",
    "y_values = southern_hemisphere[\"Wind\"]\n",
    "\n",
    "(slope, intercept, rvalue, pvalue, stderr) = linregress(x_values, y_values)\n",
    "\n",
    "regress_values = x_values * slope + intercept\n",
    "line_eq = \"y = \" + str(round(slope,3)) + \"x + \" + str(round(intercept,2))\n",
    "\n",
    "plt.plot(x_values, regress_values, \"r-\" )\n",
    "plt.scatter(x_values, y_values, edgecolors=\"black\", facecolors=\"blue\")\n",
    "plt.xlabel(\"Latitude\")\n",
    "plt.ylabel(\"Wind speed\")\n",
    "plt.annotate(line_eq,(-50,20), fontsize=20, color=\"red\")\n",
    "plt.savefig(\"Images/SH_Lat_wind_regress.png\")\n",
    "print(f\"The rvalue is: {rvalue}\")"
   ]
  }
 ],
 "metadata": {
  "kernelspec": {
   "display_name": "Python [conda env:PythonData] *",
   "language": "python",
   "name": "conda-env-PythonData-py"
  },
  "language_info": {
   "codemirror_mode": {
    "name": "ipython",
    "version": 3
   },
   "file_extension": ".py",
   "mimetype": "text/x-python",
   "name": "python",
   "nbconvert_exporter": "python",
   "pygments_lexer": "ipython3",
   "version": "3.6.12"
  }
 },
 "nbformat": 4,
 "nbformat_minor": 4
}
